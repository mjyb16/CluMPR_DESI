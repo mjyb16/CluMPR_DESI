{
 "cells": [
  {
   "cell_type": "code",
   "execution_count": 1,
   "id": "hired-relation",
   "metadata": {},
   "outputs": [],
   "source": [
    "import pandas as pd\n",
    "import numpy as np\n",
    "import numpy.ma as ma\n",
    "from scipy import spatial\n",
    "from astropy.table import Table\n",
    "from astropy.cosmology import LambdaCDM as Cos\n",
    "from astropy.io import fits\n",
    "from astropy.coordinates import SkyCoord\n",
    "from astropy import units as u\n",
    "import matplotlib.pyplot as plt\n",
    "from IPython import display \n",
    "from scipy import stats\n",
    "from scipy.interpolate import interp1d\n",
    "from scipy.interpolate import UnivariateSpline\n",
    "from scipy.optimize import curve_fit, optimize, minimize_scalar, root\n",
    "import fitsio\n",
    "from sklearn.neighbors import NearestNeighbors\n",
    "from scipy.special import gammaincc\n",
    "import pickle\n",
    "import dask\n",
    "import os"
   ]
  },
  {
   "cell_type": "code",
   "execution_count": 2,
   "id": "fewer-heart",
   "metadata": {},
   "outputs": [
    {
     "data": {
      "text/html": [
       "<table style=\"border: 2px solid white;\">\n",
       "<tr>\n",
       "<td style=\"vertical-align: top; border: 0px solid white\">\n",
       "<h3 style=\"text-align: left;\">Client</h3>\n",
       "<ul style=\"text-align: left; list-style: none; margin: 0; padding: 0;\">\n",
       "  <li><b>Scheduler: </b>tcp://127.0.0.1:46221</li>\n",
       "  <li><b>Dashboard: </b><a href='http://127.0.0.1:8787/status' target='_blank'>http://127.0.0.1:8787/status</a></li>\n",
       "</ul>\n",
       "</td>\n",
       "<td style=\"vertical-align: top; border: 0px solid white\">\n",
       "<h3 style=\"text-align: left;\">Cluster</h3>\n",
       "<ul style=\"text-align: left; list-style:none; margin: 0; padding: 0;\">\n",
       "  <li><b>Workers: </b>10</li>\n",
       "  <li><b>Cores: </b>20</li>\n",
       "  <li><b>Memory: </b>67.31 GB</li>\n",
       "</ul>\n",
       "</td>\n",
       "</tr>\n",
       "</table>"
      ],
      "text/plain": [
       "<Client: 'tcp://127.0.0.1:46221' processes=10 threads=20, memory=67.31 GB>"
      ]
     },
     "execution_count": 2,
     "metadata": {},
     "output_type": "execute_result"
    }
   ],
   "source": [
    "from dask.distributed import Client, LocalCluster\n",
    "cluster = LocalCluster(n_workers = 10)\n",
    "client = Client(cluster)\n",
    "client"
   ]
  },
  {
   "cell_type": "code",
   "execution_count": 3,
   "id": "isolated-prefix",
   "metadata": {},
   "outputs": [],
   "source": [
    "table_of_centers = pd.read_csv(\"list_of_sweeps.csv\")"
   ]
  },
  {
   "cell_type": "code",
   "execution_count": 4,
   "id": "organizational-bankruptcy",
   "metadata": {},
   "outputs": [
    {
     "data": {
      "text/plain": [
       "'/sweep-030m020-040m015.fits'"
      ]
     },
     "execution_count": 4,
     "metadata": {},
     "output_type": "execute_result"
    }
   ],
   "source": [
    "table_of_centers.patch[10][71:]"
   ]
  },
  {
   "cell_type": "code",
   "execution_count": 5,
   "id": "concerned-translator",
   "metadata": {},
   "outputs": [
    {
     "data": {
      "text/plain": [
       "'/sweep-030m020-040m015-pz.fits'"
      ]
     },
     "execution_count": 5,
     "metadata": {},
     "output_type": "execute_result"
    }
   ],
   "source": [
    "table_of_centers.photoz[10][79:]"
   ]
  },
  {
   "cell_type": "code",
   "execution_count": 6,
   "id": "thorough-cartoon",
   "metadata": {},
   "outputs": [
    {
     "data": {
      "text/plain": [
       "'/sweep-030m020-040m015_stellar_mass.npy'"
      ]
     },
     "execution_count": 6,
     "metadata": {},
     "output_type": "execute_result"
    }
   ],
   "source": [
    "table_of_centers.masses[10][70:]"
   ]
  },
  {
   "cell_type": "code",
   "execution_count": 7,
   "id": "ethical-score",
   "metadata": {},
   "outputs": [],
   "source": [
    "for i in range(0, len(table_of_centers)):\n",
    "    table_of_centers.at[i, \"patch\"] = '/data/mjb299/sweep' + table_of_centers.iloc[i].patch[71:]\n",
    "    table_of_centers.at[i, \"photoz\"] = '/data/mjb299/photoz' + table_of_centers.iloc[i].photoz[79:]\n",
    "    table_of_centers.at[i, \"masses\"] = '/data/mjb299/mass' + table_of_centers.iloc[i].masses[70:]"
   ]
  },
  {
   "cell_type": "code",
   "execution_count": 8,
   "id": "documentary-acoustic",
   "metadata": {},
   "outputs": [],
   "source": [
    "def data_import(maxx, maxy, minx, miny, row2):\n",
    "    fits_data = fitsio.FITS(row2.patch)\n",
    "    sweep = fits_data[1].read(columns=['RELEASE','BRICKID','BRICKNAME', 'OBJID', 'TYPE', 'RA', 'DEC', 'FLUX_G', 'FLUX_R', 'FLUX_Z', 'FLUX_W1', 'MASKBITS', 'GAIA_PHOT_G_MEAN_MAG', 'GAIA_ASTROMETRIC_EXCESS_NOISE'])\n",
    "    data = Table.read(row2.photoz, format = \"fits\")\n",
    "    pz = data.to_pandas()\n",
    "    #with fits.open(row2.photoz) as data:\n",
    "    #    pz = pd.DataFrame(data[1].data)\n",
    "    mass = np.load(row2.masses)\n",
    "    \n",
    "    pz['mass'] = mass\n",
    "    pz['RELEASE']=sweep['RELEASE']\n",
    "    pz['BRICKID']=sweep['BRICKID']\n",
    "    pz['BRICKNAME']=sweep['BRICKNAME']\n",
    "    pz['OBJID']=sweep['OBJID']\n",
    "    pz['TYPE']=sweep['TYPE']\n",
    "    pz['RA']=sweep['RA']\n",
    "    pz['DEC']=sweep['DEC']\n",
    "    pz['FLUX_G']=sweep['FLUX_G']\n",
    "    pz['FLUX_R']=sweep['FLUX_R']\n",
    "    pz['FLUX_Z']=sweep['FLUX_Z']\n",
    "    pz['FLUX_W1']=sweep['FLUX_W1']\n",
    "    pz['MASKBITS']=sweep['MASKBITS']\n",
    "    pz['gaia_phot_g_mean_mag']=sweep['GAIA_PHOT_G_MEAN_MAG']\n",
    "    pz['gaia_astrometric_excess_noise']=sweep['GAIA_ASTROMETRIC_EXCESS_NOISE']\n",
    "    pz = pz[np.logical_and.reduce((pz.RA < maxx + buffer/np.cos(pz.DEC*(np.pi/180)), pz.DEC < maxy + buffer, pz.RA > minx - buffer/np.cos(pz.DEC*(np.pi/180)), pz.DEC > miny - buffer))]\n",
    "    return pz\n",
    "\n",
    "@dask.delayed()\n",
    "def data_importer(row):\n",
    "    fits_data = fitsio.FITS(row.patch)\n",
    "    sweep = fits_data[1].read(columns=['RA', 'DEC'])\n",
    "    maxx = max(sweep['RA'])\n",
    "    maxy = max(sweep['DEC'])\n",
    "    minx = min(sweep['RA'])\n",
    "    miny = min(sweep['DEC'])\n",
    "\n",
    "    maxRA = max(sweep['RA'])\n",
    "    maxDEC = max(sweep['DEC'])\n",
    "    minRA = min(sweep['RA'])\n",
    "    minDEC = min(sweep['DEC'])\n",
    "\n",
    "    ra_dec = data_import(maxx, maxy, minx, miny, row)\n",
    "    #Initial sample cuts\n",
    "    zmag=np.array(22.5-2.5*np.log10(ra_dec.FLUX_Z))\n",
    "    zmag[np.where(~np.isfinite(zmag))]=99.\n",
    "    #whgood=np.where(np.logical_and(zmag < 21,ra_dec.mass > 0 ))\n",
    "    isgood=np.logical_and(zmag < 21,ra_dec.mass > 0)\n",
    "    ra_dec = ra_dec[isgood]\n",
    "\n",
    "    #Further sample cuts\n",
    "    ra_dec = ra_dec[np.logical_or(ra_dec.MASKBITS == 0, ra_dec.MASKBITS == 4096)]\n",
    "    ra_dec = ra_dec[np.logical_or(np.logical_or(ra_dec.gaia_phot_g_mean_mag > 19, ra_dec.gaia_astrometric_excess_noise > 10**.5), ra_dec.gaia_astrometric_excess_noise==0)]\n",
    "    ra_dec[\"magR\"] = 22.5-2.5*np.log10(ra_dec.FLUX_R)\n",
    "    ra_dec[\"magZ\"] = 22.5-2.5*np.log10(ra_dec.FLUX_Z)\n",
    "    ra_dec[\"magW1\"] = 22.5-2.5*np.log10(ra_dec.FLUX_W1)\n",
    "    l_mask = (ra_dec.magR - ra_dec.magW1) > 1.8*(ra_dec.magR-ra_dec.magZ)-0.6\n",
    "    l_mask[~np.isfinite(l_mask)] = False\n",
    "    ra_dec = ra_dec[np.logical_and(22.5 - 2.5*np.log10(ra_dec.FLUX_Z)<21, ra_dec.Z_PHOT_MEDIAN>0.01)]\n",
    "\n",
    "    #Coordinates\n",
    "    ra_dec[\"RA_r\"] = (np.pi/180)*ra_dec[\"RA\"]\n",
    "    ra_dec[\"DEC_r\"] = (np.pi/180)*ra_dec[\"DEC\"]\n",
    "    ra_dec[\"gid\"] = np.round(ra_dec.RA, 6)*10**16 + np.round(ra_dec.DEC + 90, 6)*10**6\n",
    "\n",
    "    ra_dec.reset_index(inplace = True, drop = True)\n",
    "    over = np.array([ra_dec.Z_PHOT_MEDIAN.values]).T*np.ones((len(ra_dec), oversample))\n",
    "    sigma = np.array([ra_dec.Z_PHOT_STD.values]).T*np.ones((len(ra_dec), oversample))\n",
    "    random = np.random.normal(loc = 0, scale = 1, size = (len(ra_dec), oversample))\n",
    "    gauss = over + sigma*random\n",
    "    ra_dec[\"gauss_z\"] = pd.Series(list(gauss))\n",
    "\n",
    "    ra_dec[\"y\"] = ra_dec[\"DEC_r\"] - np.mean(ra_dec[\"DEC_r\"]) + 50\n",
    "    ra_dec[\"x\"] = (ra_dec[\"RA_r\"] - np.mean(ra_dec[\"RA_r\"]))*np.cos(ra_dec[\"DEC_r\"]) + 50\n",
    "    return ra_dec"
   ]
  },
  {
   "cell_type": "code",
   "execution_count": 9,
   "id": "executed-income",
   "metadata": {},
   "outputs": [],
   "source": [
    "a = 1.3620186928378857  \n",
    "b = 9.968545069745126\n",
    "j= 1.04935943 \n",
    "k = 0.39573094 \n",
    "l = 0.28347756\n",
    "oversample = 30\n",
    "def mass_limit(z):\n",
    "    return np.minimum((a*z + b), 11.2)\n",
    "\n",
    "def mass_coefficient(z):\n",
    "    return np.exp(j*z**2 + k*z + l)\n",
    "\n",
    "radius = 1\n",
    "small_radius = 0.5\n",
    "mini_radius = 0.1\n",
    "\n",
    "def schechter(m, mstar, alpha, phi):\n",
    "    return (m/mstar)**alpha * np.e**(-m/mstar) * (phi/mstar)\n",
    "def d_schechter(m, mstar, alpha1, alpha2, phi1, phi2):\n",
    "    return (phi1*(m/mstar)**alpha1 + phi2*(m/mstar)**alpha2) * np.e**(-m/mstar)/mstar\n",
    "\n",
    "def schechter_fit(m, logphi, logmstar):\n",
    "    phi = 10**logphi\n",
    "    mstar = 10**logmstar\n",
    "    return (m/mstar)**-4.58821575e-01 * np.e**(-m/mstar) * (phi/mstar)\n",
    "\n",
    "def quadratic(x, a, b, c):\n",
    "    return a*x**2 + b*x + c"
   ]
  },
  {
   "cell_type": "code",
   "execution_count": 10,
   "id": "ethical-ridge",
   "metadata": {},
   "outputs": [],
   "source": [
    "a_s = [1.2521537890545, 1.249940942244362, 1.2778247689796816, 1.2808347252924368, 1.3181682956929082]\n",
    "bs = [10.014409265033215, 10.019835378957413, 9.997545608204886, 9.989648556925106, 9.98337820898106]\n",
    "\n",
    "js = [0.12933225372846277, 0.024407727902807916, 0.010196500935854114, -0.06389762415806167, -0.1196681547459235]\n",
    "ks = [0.38709047660912427, 0.4729973950176785, 0.47450412705296385, 0.5430483965667218, 0.5907776990057217]\n",
    "ls = [0.09020635136768362, 0.07922832403935326, 0.08168546418998317, 0.06646574642889773, 0.06910636075492357]"
   ]
  },
  {
   "cell_type": "code",
   "execution_count": 17,
   "id": "ranging-confirmation",
   "metadata": {},
   "outputs": [
    {
     "data": {
      "text/plain": [
       "150"
      ]
     },
     "execution_count": 17,
     "metadata": {},
     "output_type": "execute_result"
    }
   ],
   "source": [
    "len(table_of_centers)"
   ]
  },
  {
   "cell_type": "code",
   "execution_count": 21,
   "id": "caring-jewelry",
   "metadata": {},
   "outputs": [
    {
     "name": "stdout",
     "output_type": "stream",
     "text": [
      "50 60\n",
      "60 70\n",
      "70 80\n",
      "80 90\n",
      "90 100\n",
      "100 110\n",
      "110 120\n",
      "120 130\n",
      "130 140\n"
     ]
    }
   ],
   "source": [
    "for it in range(5, 14):\n",
    "    print(10*it, 10*it+10)"
   ]
  },
  {
   "cell_type": "code",
   "execution_count": null,
   "id": "current-scotland",
   "metadata": {},
   "outputs": [],
   "source": [
    "for it in range(14, 15):\n",
    "    testing_centers = table_of_centers.iloc[10*it:10*it+10]\n",
    "    ra_dec_list = []\n",
    "    #Buffer (in degrees, from interpolating maximum cluster radius at z = 0.05)\n",
    "    buffer = 0.285\n",
    "\n",
    "    for index, row in testing_centers.iterrows():\n",
    "        d_ra_dec = data_importer(row)\n",
    "        ra_dec_list.append(d_ra_dec)\n",
    "        \n",
    "    ra_decs = dask.compute(*ra_dec_list)\n",
    "    ra_dec = pd.concat(ra_decs)\n",
    "    cos = Cos(H0 = 70, Om0 = .286, Ode0 = .714)\n",
    "    z_array = np.linspace(1e-2, ra_dec.Z_PHOT_MEDIAN.max(), 500)\n",
    "    sparse_radius = (1+z_array)/(cos.comoving_distance(z_array))\n",
    "    radius_threshold = interp1d(z_array, sparse_radius, kind = \"linear\", fill_value = \"extrapolate\")\n",
    "    median = stats.binned_statistic(ra_dec.Z_PHOT_MEDIAN, ra_dec.Z_PHOT_STD, \"median\", bins = np.linspace(0.05, ra_dec.Z_PHOT_MEDIAN.max(), 100))\n",
    "    bins = np.linspace(0.05, ra_dec.Z_PHOT_MEDIAN.max(), 99)\n",
    "    z_threshold = interp1d(bins, median[0], kind = \"linear\", fill_value = \"extrapolate\")\n",
    "    massive_sample = ra_dec[ra_dec.mass > 11.2].copy()\n",
    "    massive_sample[\"neighbor_mass\"] = np.zeros(len(massive_sample))\n",
    "    massive_sample[\"local_neighbor_mass\"] = np.zeros(len(massive_sample))\n",
    "    massive_sample[\"ultra_local_neighbor_mass\"] = np.zeros(len(massive_sample))\n",
    "    massive_sample[\"corrected_neighbor_mass\"] = np.zeros(len(massive_sample))\n",
    "    massive_sample[\"corrected_local_neighbor_mass\"] = np.zeros(len(massive_sample))\n",
    "    massive_sample[\"corrected_ultra_local_neighbor_mass\"] = np.zeros(len(massive_sample))\n",
    "    massive_sample[\"neighbors\"] = np.zeros(len(massive_sample))\n",
    "    massive_sample[\"local_neighbors\"] = np.zeros(len(massive_sample))\n",
    "    massive_sample[\"ultra_local_neighbors\"] = np.zeros(len(massive_sample))\n",
    "    massive_sample[\"neighbor_gids\"] = np.zeros(len(massive_sample))\n",
    "    massive_sample[\"local_neighbor_gids\"] = np.zeros(len(massive_sample))\n",
    "    massive_sample[\"ultra_local_neighbor_gids\"] = np.zeros(len(massive_sample))\n",
    "    massive_sample[\"mass_array\"] = np.empty(len(massive_sample), dtype = \"object\")\n",
    "    massive_sample[\"weight_array\"] = np.empty(len(massive_sample), dtype = \"object\")\n",
    "    massive_sample[\"fluxg_array\"] = np.empty(len(massive_sample), dtype = \"object\")\n",
    "    massive_sample[\"fluxz_array\"] = np.empty(len(massive_sample), dtype = \"object\")\n",
    "    massive_sample[\"z_array\"] = np.empty(len(massive_sample), dtype = \"object\")\n",
    "    massive_sample.reset_index(inplace=True, drop = True)\n",
    "    tree = spatial.cKDTree(ra_dec[[\"x\", \"y\"]], copy_data = True)\n",
    "    \n",
    "    indexable = ra_dec[[\"Z_PHOT_MEDIAN\", \"x\", \"y\", \"mass\", \"gauss_z\", \"FLUX_G\", \"FLUX_Z\"]].values.copy()\n",
    "    \n",
    "    iterrator = massive_sample.copy()\n",
    "    for i, row in iterrator.iterrows():\n",
    "        neighbors = tree.query_ball_point([row.x, row.y], radius_threshold(row.Z_PHOT_MEDIAN))\n",
    "        if len(neighbors) > 0:\n",
    "            local_data = indexable[neighbors]\n",
    "\n",
    "            z_c = z_threshold(row.Z_PHOT_MEDIAN)\n",
    "            cylinder = np.abs(np.vstack(local_data[:, 4]) - row.Z_PHOT_MEDIAN)\n",
    "            weight_array = cylinder < 2*z_c\n",
    "            weights = weight_array.sum(axis = 1)/oversample\n",
    "\n",
    "            approx_cluster = np.append(local_data, np.reshape(weights, newshape = (len(weights), 1)), axis = 1)\n",
    "            cluster = approx_cluster[approx_cluster[:, -1] > 0]\n",
    "\n",
    "            r_smaller = radius_threshold(row.Z_PHOT_MEDIAN)\n",
    "            small_cluster = cluster[np.sqrt(np.array((cluster[:, 1] - row.x)**2 + (cluster[:, 2] - row.y)**2).astype(float)) < 0.5*r_smaller]\n",
    "            mini_cluster = cluster[np.sqrt(np.array((cluster[:, 1] - row.x)**2 + (cluster[:, 2] - row.y)**2).astype(float)) < 0.1*r_smaller]\n",
    "\n",
    "            massive_sample.at[i, \"neighbors\"] = np.sum(cluster[:, -1])\n",
    "            massive_sample.at[i, \"local_neighbors\"] = np.sum(small_cluster[:, -1])\n",
    "            massive_sample.at[i, \"ultra_local_neighbors\"] = np.sum(mini_cluster[:, -1])\n",
    "\n",
    "            massive_sample.at[i, \"neighbor_mass\"] = np.log10(np.sum(np.append((10**cluster[:, 3])*cluster[:, -1], [10**row.mass])))\n",
    "            c_mask = cluster[:, 3]>mass_limit(row.Z_PHOT_MEDIAN)\n",
    "            cluster_limited = cluster[c_mask.astype(\"bool\"), :]\n",
    "            massive_sample.at[i, \"corrected_neighbor_mass\"] = np.log10(np.sum(np.append(((10**cluster_limited[:, 3]))*cluster_limited[:, -1], [10**row.mass]))*mass_coefficient(row.Z_PHOT_MEDIAN))\n",
    "            massive_sample.at[i, \"local_neighbor_mass\"] = np.log10(np.sum(np.append((10**small_cluster[:, 3])*small_cluster[:, -1], [10**row.mass])))\n",
    "            massive_sample.at[i, \"ultra_local_neighbor_mass\"] = np.log10(np.sum(np.append((10**mini_cluster[:, 3])*mini_cluster[:, -1], [10**row.mass])))\n",
    "\n",
    "            massive_sample.at[i, \"mass_array\"] = np.log10(np.append((10**cluster[:, 3]), [10**row.mass]).astype(float))\n",
    "            massive_sample.at[i, \"weight_array\"] = np.append(cluster[:, -1], [1])\n",
    "            massive_sample.at[i, \"fluxg_array\"] = np.append(cluster[:, 5], [row.FLUX_G])\n",
    "            massive_sample.at[i, \"fluxz_array\"] = np.append(cluster[:, 6], [row.FLUX_Z])\n",
    "            massive_sample.at[i, \"z_array\"] = np.append(cluster[:, 0], [row.Z_PHOT_MEDIAN])\n",
    "    \n",
    "    bins = np.arange(0.05, massive_sample.Z_PHOT_MEDIAN.max(), 0.01)\n",
    "    binned = [massive_sample[np.logical_and(massive_sample.Z_PHOT_MEDIAN>=i-.025, massive_sample.Z_PHOT_MEDIAN<=i+.025)].copy() for i in bins]\n",
    "    clusters = pd.DataFrame()\n",
    "    threshold1 = np.empty(len(binned))\n",
    "    threshold2 = np.empty(len(binned))\n",
    "    for i in range(len(binned)):\n",
    "        threshold1[i] = np.mean(binned[i].neighbors) + 1.8*np.sqrt(np.mean(binned[i].neighbors))\n",
    "        threshold2[i] = np.mean(binned[i].local_neighbors) + 1.2*np.sqrt(np.mean(binned[i].local_neighbors))\n",
    "        \n",
    "    thresh1 = interp1d(bins, threshold1, kind = \"linear\", fill_value = \"extrapolate\")\n",
    "    thresh2 = interp1d(bins, threshold2, kind = \"linear\", fill_value = \"extrapolate\")\n",
    "    \n",
    "    clusters = massive_sample[np.logical_and(massive_sample.neighbors >= thresh1(massive_sample.Z_PHOT_MEDIAN), massive_sample.local_neighbors >= thresh2(massive_sample.Z_PHOT_MEDIAN))].copy()\n",
    "    clusters.sort_values(\"local_neighbor_mass\", inplace = True, ascending = False)\n",
    "    clusters.reset_index(inplace= True, drop = True)\n",
    "    \n",
    "    tree = spatial.cKDTree(clusters[[\"x\", \"y\"]], copy_data = True)\n",
    "    clusters[\"ncluster\"] = np.zeros(len(clusters))\n",
    "    clusternum = 1\n",
    "\n",
    "    iterrator = clusters.copy()\n",
    "    for i, row in iterrator.iterrows():\n",
    "        if clusters.iloc[i].ncluster == 0:\n",
    "            clusters.at[i, \"ncluster\"] = clusternum\n",
    "            neighbors = tree.query_ball_point([row.x, row.y], 1.5*radius_threshold(row.Z_PHOT_MEDIAN))\n",
    "            for index in neighbors:\n",
    "                if clusters.at[index, \"ncluster\"] == 0 and np.abs(clusters.at[index, \"Z_PHOT_MEDIAN\"] - row.Z_PHOT_MEDIAN) < 2*z_threshold(row.Z_PHOT_MEDIAN):\n",
    "                    clusters.at[index, \"ncluster\"] = clusternum\n",
    "\n",
    "            clusternum += 1\n",
    "    cluster_center = clusters.sort_values(by = ['ncluster','ultra_local_neighbor_mass'], ascending = [True, False]).groupby('ncluster').head(1).copy()\n",
    "    bins_z = np.linspace(0.025, 1.025, 22)\n",
    "    binned = [cluster_center[np.logical_and(cluster_center.Z_PHOT_MEDIAN>=i-.025, cluster_center.Z_PHOT_MEDIAN<=i+0.025)].mass_array.copy() for i in bins_z]\n",
    "    binned2 = [cluster_center[np.logical_and(cluster_center.Z_PHOT_MEDIAN>=i-.025, cluster_center.Z_PHOT_MEDIAN<=i+0.025)].weight_array.copy() for i in bins_z]\n",
    "    \n",
    "    mass_list = []\n",
    "    for clusters in binned:\n",
    "        if len(clusters) > 0:\n",
    "            mass_list += [np.concatenate(clusters.values.flatten())]\n",
    "        else:\n",
    "            mass_list += []\n",
    "\n",
    "    weight_list = []\n",
    "    for clusters in binned2:\n",
    "        if len(clusters) > 0:\n",
    "            weight_list += [np.concatenate(clusters.values.flatten()).astype(float)]\n",
    "        else:\n",
    "            weight_list += []\n",
    "    \n",
    "    peak_list = np.zeros(22)\n",
    "    \n",
    "    for i in range(0, 21):\n",
    "        n, bins, _ = plt.hist(mass_list[i], weights = weight_list[i], bins= np.linspace(7, 13, 26), log = True, density = True)\n",
    "        peaks = np.array([n, (bins[1:] + bins[:-1])/2])\n",
    "        peakfinder = interp1d(peaks[1], -1*peaks[0], kind = \"quadratic\", fill_value = \"extrapolate\")\n",
    "        m_list = np.linspace(6, 13, 100)\n",
    "        m_peak = minimize_scalar(peakfinder, method = \"bounded\", bounds = [9, 13])\n",
    "        peak_list[i] = m_peak.x\n",
    "    \n",
    "    mass_lim = interp1d(bins_z[1:], peak_list[0:-1], kind = \"linear\", fill_value = \"extrapolate\")\n",
    "    z_test = np.linspace(bins_z[1], bins_z[-1], 100)\n",
    "    a, b = np.polyfit(z_test[11:], mass_lim(z_test[11:]), deg = 1)\n",
    "    a_s.append(a)\n",
    "    bs.append(b)\n",
    "    print(a_s, bs)\n",
    "    \n",
    "    def mass_limit(z):\n",
    "        return np.minimum((a*z + b), 11.2)\n",
    "    \n",
    "    phi_mstar = np.empty(22, dtype = \"object\")\n",
    "    \n",
    "    for i in range(0, 21):\n",
    "        n, bins, _ = plt.hist(mass_list[i], weights = weight_list[i], bins= np.linspace(7, 13, 26), log = True, density = True)\n",
    "        peaks = np.array([n, (bins[1:] + bins[:-1])/2])\n",
    "        threshold = len(peaks[1][peaks[1] > mass_lim(bins_z[1] + 0.2)])\n",
    "        popt, pcov = curve_fit(schechter_fit, 10**peaks[1][-threshold:], peaks[0][-threshold:], p0 = np.log10((2.9e10, 2.90e+11)), bounds = ((1, np.log10(2.9e11)), (15, np.log10(2.901e11))))\n",
    "        phi_mstar[i] = popt\n",
    "    \n",
    "    PhiMstar = 10**np.stack(phi_mstar[:-1], axis = 1)\n",
    "    alpha = -4.58821575e-01\n",
    "    m0 = 8\n",
    "    total_mass = np.zeros(21)\n",
    "    high_mass = np.zeros(21)\n",
    "    for i in range(0, 21):\n",
    "        total_mass[i] = PhiMstar[0][i]*gammaincc(alpha+1, 10**(m0)/PhiMstar[1][i])\n",
    "        high_mass[i] = PhiMstar[0][i]*gammaincc(alpha+1, 10**(mass_lim(bins_z[i+1] + 0.2))/PhiMstar[1][i])\n",
    "    \n",
    "    mass_coeff = total_mass/high_mass\n",
    "    \n",
    "    popt, pcov = curve_fit(quadratic, bins_z[1:-1], np.log10(mass_coeff[:-1]), p0 = (1, 1, 0))\n",
    "    js.append(popt[0])\n",
    "    ks.append(popt[1])\n",
    "    ls.append(popt[2])\n",
    "    \n",
    "    print(js, ks, ls)\n",
    "    print(it)"
   ]
  },
  {
   "cell_type": "code",
   "execution_count": 35,
   "id": "upset-intent",
   "metadata": {},
   "outputs": [
    {
     "data": {
      "text/plain": [
       "[1.2521537890545,\n",
       " 1.249940942244362,\n",
       " 1.2778247689796816,\n",
       " 1.2808347252924368,\n",
       " 1.3181682956929082,\n",
       " 1.2503341328174553,\n",
       " 1.3429184981828801,\n",
       " 1.2509062622671936,\n",
       " 1.3050892065462492,\n",
       " 1.2451748563950018,\n",
       " 1.236237634139737,\n",
       " 1.2459719685028867,\n",
       " 1.2443858651629496,\n",
       " 1.217567186921932,\n",
       " 1.2759754213621952]"
      ]
     },
     "execution_count": 35,
     "metadata": {},
     "output_type": "execute_result"
    }
   ],
   "source": [
    "a_s"
   ]
  },
  {
   "cell_type": "code",
   "execution_count": 36,
   "id": "rotary-clinic",
   "metadata": {},
   "outputs": [
    {
     "data": {
      "text/plain": [
       "[10.014409265033215,\n",
       " 10.019835378957413,\n",
       " 9.997545608204886,\n",
       " 9.989648556925106,\n",
       " 9.98337820898106,\n",
       " 10.02979957770403,\n",
       " 9.949450491719253,\n",
       " 10.001023334133839,\n",
       " 9.983546980526238,\n",
       " 10.015558271590686,\n",
       " 10.028096765733958,\n",
       " 10.016894395335909,\n",
       " 10.010397298392553,\n",
       " 10.025416634655253,\n",
       " 9.995962492480224]"
      ]
     },
     "execution_count": 36,
     "metadata": {},
     "output_type": "execute_result"
    }
   ],
   "source": [
    "bs"
   ]
  },
  {
   "cell_type": "code",
   "execution_count": 37,
   "id": "broken-excuse",
   "metadata": {},
   "outputs": [
    {
     "data": {
      "text/plain": [
       "[0.12933225372846277,\n",
       " 0.024407727902807916,\n",
       " 0.010196500935854114,\n",
       " -0.06389762415806167,\n",
       " -0.1196681547459235,\n",
       " -0.01285943116325387,\n",
       " 0.05959864702112152,\n",
       " 0.032664069047497434,\n",
       " -0.11537307196358303,\n",
       " -0.03297245897274959,\n",
       " 0.04124477899077817,\n",
       " 0.03080106516569285,\n",
       " -0.006585116994235084,\n",
       " -0.07560600685787194,\n",
       " -0.05221537284687488]"
      ]
     },
     "execution_count": 37,
     "metadata": {},
     "output_type": "execute_result"
    }
   ],
   "source": [
    "js"
   ]
  },
  {
   "cell_type": "code",
   "execution_count": 38,
   "id": "coordinated-computer",
   "metadata": {},
   "outputs": [
    {
     "data": {
      "text/plain": [
       "[0.38709047660912427,\n",
       " 0.4729973950176785,\n",
       " 0.47450412705296385,\n",
       " 0.5430483965667218,\n",
       " 0.5907776990057217,\n",
       " 0.5062448037203962,\n",
       " 0.4535236772461828,\n",
       " 0.4525498568740273,\n",
       " 0.5822294822795737,\n",
       " 0.500406594542132,\n",
       " 0.44206124861462187,\n",
       " 0.45752786295938164,\n",
       " 0.4796638962625659,\n",
       " 0.5276245566533674,\n",
       " 0.5275222486403912]"
      ]
     },
     "execution_count": 38,
     "metadata": {},
     "output_type": "execute_result"
    }
   ],
   "source": [
    "ks"
   ]
  },
  {
   "cell_type": "code",
   "execution_count": 39,
   "id": "fourth-reynolds",
   "metadata": {},
   "outputs": [
    {
     "data": {
      "text/plain": [
       "[0.09020635136768362,\n",
       " 0.07922832403935326,\n",
       " 0.08168546418998317,\n",
       " 0.06646574642889773,\n",
       " 0.06910636075492357,\n",
       " 0.07864127362511057,\n",
       " 0.07912581123236548,\n",
       " 0.0781968929226585,\n",
       " 0.0674470723111792,\n",
       " 0.07742075529850095,\n",
       " 0.08834492445341678,\n",
       " 0.08168136436107562,\n",
       " 0.07787357426969317,\n",
       " 0.07056000338405138,\n",
       " 0.0714467392333185]"
      ]
     },
     "execution_count": 39,
     "metadata": {},
     "output_type": "execute_result"
    }
   ],
   "source": [
    "ls"
   ]
  },
  {
   "cell_type": "code",
   "execution_count": 40,
   "id": "imported-hormone",
   "metadata": {},
   "outputs": [],
   "source": [
    "def mass_coefficient(j, k, l, z):\n",
    "    return 10**((j)*z**2 + k*z + l)"
   ]
  },
  {
   "cell_type": "code",
   "execution_count": 58,
   "id": "altered-young",
   "metadata": {},
   "outputs": [
    {
     "data": {
      "image/png": "[encoded data removed]",
      "text/plain": [
       "<Figure size 864x864 with 1 Axes>"
      ]
     },
     "metadata": {
      "needs_background": "light"
     },
     "output_type": "display_data"
    }
   ],
   "source": [
    "plt.figure(figsize = (12, 12))\n",
    "z = np.linspace(0.025, 1.025, 22)\n",
    "for i in range(15):\n",
    "    plt.plot(mass_coefficient(js[i], ks[i], ls[i], z))\n",
    "plt.plot(mass_coefficient(j_avg, k_avg, l_avg, z), \"-k\")\n",
    "plt.show()"
   ]
  },
  {
   "cell_type": "code",
   "execution_count": 44,
   "id": "pacific-count",
   "metadata": {},
   "outputs": [],
   "source": [
    "j_avg, k_avg, l_avg = (np.mean(js), np.mean(ks), np.mean(ls))"
   ]
  },
  {
   "cell_type": "code",
   "execution_count": 59,
   "id": "advisory-rolling",
   "metadata": {},
   "outputs": [
    {
     "name": "stdout",
     "output_type": "stream",
     "text": [
      "-0.010062146327355921 0.4931848214696567 0.07716204385814744\n"
     ]
    }
   ],
   "source": [
    "print(j_avg, k_avg, l_avg)"
   ]
  },
  {
   "cell_type": "code",
   "execution_count": 45,
   "id": "civil-beach",
   "metadata": {},
   "outputs": [
    {
     "data": {
      "image/png": "[encoded data removed]",
      "text/plain": [
       "<Figure size 432x288 with 1 Axes>"
      ]
     },
     "metadata": {
      "needs_background": "light"
     },
     "output_type": "display_data"
    }
   ],
   "source": [
    "z = np.linspace(0.025, 1.025, 22)\n",
    "plt.plot(mass_coefficient(j_avg, k_avg, l_avg, z))\n",
    "plt.show()"
   ]
  },
  {
   "cell_type": "code",
   "execution_count": 56,
   "id": "varying-defense",
   "metadata": {},
   "outputs": [],
   "source": [
    "z2 = z.reshape((1, 22))\n",
    "std_mass_coeff = np.std(10**(np.array(js).reshape((15, 1))*z**2 + np.array(ks).reshape((15, 1))*z + np.array(ls).reshape((15, 1))), axis = 0)"
   ]
  },
  {
   "cell_type": "code",
   "execution_count": 57,
   "id": "amateur-flush",
   "metadata": {},
   "outputs": [
    {
     "data": {
      "image/png": "[encoded data removed]",
      "text/plain": [
       "<Figure size 432x288 with 1 Axes>"
      ]
     },
     "metadata": {
      "needs_background": "light"
     },
     "output_type": "display_data"
    }
   ],
   "source": [
    "z = np.linspace(0.025, 1.025, 22)\n",
    "plt.plot(std_mass_coeff)\n",
    "plt.show()"
   ]
  },
  {
   "cell_type": "code",
   "execution_count": null,
   "id": "changed-election",
   "metadata": {},
   "outputs": [],
   "source": []
  }
 ],
 "metadata": {
  "kernelspec": {
   "display_name": "Python 3",
   "language": "python",
   "name": "python3"
  },
  "language_info": {
   "codemirror_mode": {
    "name": "ipython",
    "version": 3
   },
   "file_extension": ".py",
   "mimetype": "text/x-python",
   "name": "python",
   "nbconvert_exporter": "python",
   "pygments_lexer": "ipython3",
   "version": "3.7.10"
  }
 },
 "nbformat": 4,
 "nbformat_minor": 5
}
