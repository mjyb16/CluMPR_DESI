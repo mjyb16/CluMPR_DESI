{
 "cells": [
  {
   "cell_type": "code",
   "execution_count": 4,
   "metadata": {},
   "outputs": [],
   "source": [
    "import pandas as pd"
   ]
  },
  {
   "cell_type": "code",
   "execution_count": 2,
   "metadata": {},
   "outputs": [],
   "source": [
    "table = pd.read_csv(\"table_of_centers_dr9_scratch.csv\")"
   ]
  },
  {
   "cell_type": "code",
   "execution_count": 3,
   "metadata": {},
   "outputs": [
    {
     "data": {
      "text/html": [
       "<div>\n",
       "<style scoped>\n",
       "    .dataframe tbody tr th:only-of-type {\n",
       "        vertical-align: middle;\n",
       "    }\n",
       "\n",
       "    .dataframe tbody tr th {\n",
       "        vertical-align: top;\n",
       "    }\n",
       "\n",
       "    .dataframe thead th {\n",
       "        text-align: right;\n",
       "    }\n",
       "</style>\n",
       "<table border=\"1\" class=\"dataframe\">\n",
       "  <thead>\n",
       "    <tr style=\"text-align: right;\">\n",
       "      <th></th>\n",
       "      <th>Unnamed: 0</th>\n",
       "      <th>patch</th>\n",
       "      <th>mean_RA</th>\n",
       "      <th>mean_DEC</th>\n",
       "      <th>photoz</th>\n",
       "      <th>masses</th>\n",
       "    </tr>\n",
       "  </thead>\n",
       "  <tbody>\n",
       "    <tr>\n",
       "      <th>0</th>\n",
       "      <td>0</td>\n",
       "      <td>/global/cscratch1/sd/mjyb16/DR9/south/sweep/sw...</td>\n",
       "      <td>314.892485</td>\n",
       "      <td>-62.431671</td>\n",
       "      <td>/global/cscratch1/sd/mjyb16/DR9/south/photo-z/...</td>\n",
       "      <td>/global/cscratch1/sd/mjyb16/DR9/south/stellar_...</td>\n",
       "    </tr>\n",
       "    <tr>\n",
       "      <th>1</th>\n",
       "      <td>1</td>\n",
       "      <td>/global/cscratch1/sd/mjyb16/DR9/south/sweep/sw...</td>\n",
       "      <td>24.980432</td>\n",
       "      <td>-62.448687</td>\n",
       "      <td>/global/cscratch1/sd/mjyb16/DR9/south/photo-z/...</td>\n",
       "      <td>/global/cscratch1/sd/mjyb16/DR9/south/stellar_...</td>\n",
       "    </tr>\n",
       "    <tr>\n",
       "      <th>2</th>\n",
       "      <td>2</td>\n",
       "      <td>/global/cscratch1/sd/mjyb16/DR9/south/sweep/sw...</td>\n",
       "      <td>325.084723</td>\n",
       "      <td>-12.332183</td>\n",
       "      <td>/global/cscratch1/sd/mjyb16/DR9/south/photo-z/...</td>\n",
       "      <td>/global/cscratch1/sd/mjyb16/DR9/south/stellar_...</td>\n",
       "    </tr>\n",
       "    <tr>\n",
       "      <th>3</th>\n",
       "      <td>3</td>\n",
       "      <td>/global/cscratch1/sd/mjyb16/DR9/south/sweep/sw...</td>\n",
       "      <td>145.009759</td>\n",
       "      <td>27.486088</td>\n",
       "      <td>/global/cscratch1/sd/mjyb16/DR9/south/photo-z/...</td>\n",
       "      <td>/global/cscratch1/sd/mjyb16/DR9/south/stellar_...</td>\n",
       "    </tr>\n",
       "    <tr>\n",
       "      <th>4</th>\n",
       "      <td>4</td>\n",
       "      <td>/global/cscratch1/sd/mjyb16/DR9/south/sweep/sw...</td>\n",
       "      <td>354.939935</td>\n",
       "      <td>12.495436</td>\n",
       "      <td>/global/cscratch1/sd/mjyb16/DR9/south/photo-z/...</td>\n",
       "      <td>/global/cscratch1/sd/mjyb16/DR9/south/stellar_...</td>\n",
       "    </tr>\n",
       "  </tbody>\n",
       "</table>\n",
       "</div>"
      ],
      "text/plain": [
       "   Unnamed: 0                                              patch     mean_RA  \\\n",
       "0           0  /global/cscratch1/sd/mjyb16/DR9/south/sweep/sw...  314.892485   \n",
       "1           1  /global/cscratch1/sd/mjyb16/DR9/south/sweep/sw...   24.980432   \n",
       "2           2  /global/cscratch1/sd/mjyb16/DR9/south/sweep/sw...  325.084723   \n",
       "3           3  /global/cscratch1/sd/mjyb16/DR9/south/sweep/sw...  145.009759   \n",
       "4           4  /global/cscratch1/sd/mjyb16/DR9/south/sweep/sw...  354.939935   \n",
       "\n",
       "    mean_DEC                                             photoz  \\\n",
       "0 -62.431671  /global/cscratch1/sd/mjyb16/DR9/south/photo-z/...   \n",
       "1 -62.448687  /global/cscratch1/sd/mjyb16/DR9/south/photo-z/...   \n",
       "2 -12.332183  /global/cscratch1/sd/mjyb16/DR9/south/photo-z/...   \n",
       "3  27.486088  /global/cscratch1/sd/mjyb16/DR9/south/photo-z/...   \n",
       "4  12.495436  /global/cscratch1/sd/mjyb16/DR9/south/photo-z/...   \n",
       "\n",
       "                                              masses  \n",
       "0  /global/cscratch1/sd/mjyb16/DR9/south/stellar_...  \n",
       "1  /global/cscratch1/sd/mjyb16/DR9/south/stellar_...  \n",
       "2  /global/cscratch1/sd/mjyb16/DR9/south/stellar_...  \n",
       "3  /global/cscratch1/sd/mjyb16/DR9/south/stellar_...  \n",
       "4  /global/cscratch1/sd/mjyb16/DR9/south/stellar_...  "
      ]
     },
     "execution_count": 3,
     "metadata": {},
     "output_type": "execute_result"
    }
   ],
   "source": [
    "table.head()"
   ]
  },
  {
   "cell_type": "code",
   "execution_count": 7,
   "metadata": {},
   "outputs": [],
   "source": [
    "check_dr9 = pd.read_csv(\"dr9_sweeps.csv\")"
   ]
  },
  {
   "cell_type": "code",
   "execution_count": 10,
   "metadata": {},
   "outputs": [
    {
     "data": {
      "text/plain": [
       "723"
      ]
     },
     "execution_count": 10,
     "metadata": {},
     "output_type": "execute_result"
    }
   ],
   "source": [
    "len(check_dr9)"
   ]
  },
  {
   "cell_type": "code",
   "execution_count": 23,
   "metadata": {},
   "outputs": [],
   "source": [
    "import os\n",
    "check_n = pd.DataFrame(os.listdir(\"/global/project/projectdirs/cosmo/data/legacysurvey/dr9/north/sweep/9.0/\"), columns = [\"patch\"])"
   ]
  },
  {
   "cell_type": "code",
   "execution_count": 24,
   "metadata": {},
   "outputs": [],
   "source": [
    "for i in range(len(check_n)):\n",
    "    selfed = check_n.iloc[i].patch\n",
    "    check_n.iloc[i].patch = \"/global/project/projectdirs/cosmo/data/legacysurvey/dr9/north/sweep/9.0/\" + selfed"
   ]
  },
  {
   "cell_type": "code",
   "execution_count": 25,
   "metadata": {},
   "outputs": [],
   "source": [
    "check_s = pd.DataFrame(os.listdir(\"/global/project/projectdirs/cosmo/data/legacysurvey/dr9/south/sweep/9.0/\"), columns = [\"patch\"])\n",
    "for i in range(len(check_s)):\n",
    "    selfed = check_s.iloc[i].patch\n",
    "    check_s.iloc[i].patch = \"/global/project/projectdirs/cosmo/data/legacysurvey/dr9/south/sweep/9.0/\" + selfed"
   ]
  },
  {
   "cell_type": "code",
   "execution_count": 31,
   "metadata": {},
   "outputs": [
    {
     "data": {
      "text/plain": [
       "array([[445,\n",
       "        '/global/project/projectdirs/cosmo/data/legacysurvey/dr9/north/sweep/9.0/sweep-000p040-010p045.fits',\n",
       "        9.68604780356961, 41.36111605218304,\n",
       "        '/global/project/projectdirs/cosmo/data/legacysurvey/dr9/north/sweep/9.0-photo-z/sweep-000p040-010p045-pz.fits',\n",
       "        '/global/cfs/cdirs/desi/users/rongpu/ls_dr9.0_photoz/stellar_mass/north/sweep-000p040-010p045_stellar_mass.npy'],\n",
       "       [579,\n",
       "        '/global/project/projectdirs/cosmo/data/legacysurvey/dr9/north/sweep/9.0/sweep-010p040-020p045.fits',\n",
       "        11.168438990164589, 41.190716847785225,\n",
       "        '/global/project/projectdirs/cosmo/data/legacysurvey/dr9/north/sweep/9.0-photo-z/sweep-010p040-020p045-pz.fits',\n",
       "        '/global/cfs/cdirs/desi/users/rongpu/ls_dr9.0_photoz/stellar_mass/north/sweep-010p040-020p045_stellar_mass.npy'],\n",
       "       [596,\n",
       "        '/global/project/projectdirs/cosmo/data/legacysurvey/dr9/north/sweep/9.0/sweep-010p035-020p040.fits',\n",
       "        11.300428412163209, 39.88146807686749,\n",
       "        '/global/project/projectdirs/cosmo/data/legacysurvey/dr9/north/sweep/9.0-photo-z/sweep-010p035-020p040-pz.fits',\n",
       "        '/global/cfs/cdirs/desi/users/rongpu/ls_dr9.0_photoz/stellar_mass/north/sweep-010p035-020p040_stellar_mass.npy']],\n",
       "      dtype=object)"
      ]
     },
     "execution_count": 31,
     "metadata": {},
     "output_type": "execute_result"
    }
   ],
   "source": [
    "import numpy as np\n",
    "check_dr9[np.logical_and(~check_dr9.patch.isin(check_n.patch), ~check_dr9.patch.isin(check_s.patch))].values"
   ]
  },
  {
   "cell_type": "code",
   "execution_count": 29,
   "metadata": {},
   "outputs": [
    {
     "data": {
      "text/plain": [
       "array([['/global/project/projectdirs/cosmo/data/legacysurvey/dr9/north/sweep/9.0/legacysurvey_dr9_north_sweep_9.0.sha256sum']],\n",
       "      dtype=object)"
      ]
     },
     "execution_count": 29,
     "metadata": {},
     "output_type": "execute_result"
    }
   ],
   "source": [
    "check_n[~check_n.patch.isin(check_dr9.patch)].values"
   ]
  },
  {
   "cell_type": "code",
   "execution_count": 30,
   "metadata": {},
   "outputs": [
    {
     "data": {
      "text/plain": [
       "array([['/global/project/projectdirs/cosmo/data/legacysurvey/dr9/south/sweep/9.0/sweep-210m020-220m015.fits'],\n",
       "       ['/global/project/projectdirs/cosmo/data/legacysurvey/dr9/south/sweep/9.0/sweep-160m025-170m020.fits'],\n",
       "       ['/global/project/projectdirs/cosmo/data/legacysurvey/dr9/south/sweep/9.0/sweep-150m025-160m020.fits'],\n",
       "       ['/global/project/projectdirs/cosmo/data/legacysurvey/dr9/south/sweep/9.0/sweep-140m030-150m025.fits'],\n",
       "       ['/global/project/projectdirs/cosmo/data/legacysurvey/dr9/south/sweep/9.0/sweep-140m015-150m010.fits'],\n",
       "       ['/global/project/projectdirs/cosmo/data/legacysurvey/dr9/south/sweep/9.0/sweep-130m015-140m010.fits'],\n",
       "       ['/global/project/projectdirs/cosmo/data/legacysurvey/dr9/south/sweep/9.0/sweep-150m035-160m030.fits'],\n",
       "       ['/global/project/projectdirs/cosmo/data/legacysurvey/dr9/south/sweep/9.0/sweep-150m030-160m025.fits'],\n",
       "       ['/global/project/projectdirs/cosmo/data/legacysurvey/dr9/south/sweep/9.0/sweep-160m035-170m030.fits'],\n",
       "       ['/global/project/projectdirs/cosmo/data/legacysurvey/dr9/south/sweep/9.0/sweep-140m025-150m020.fits'],\n",
       "       ['/global/project/projectdirs/cosmo/data/legacysurvey/dr9/south/sweep/9.0/sweep-170m030-180m025.fits'],\n",
       "       ['/global/project/projectdirs/cosmo/data/legacysurvey/dr9/south/sweep/9.0/sweep-160m030-170m025.fits'],\n",
       "       ['/global/project/projectdirs/cosmo/data/legacysurvey/dr9/south/sweep/9.0/sweep-140m020-150m015.fits'],\n",
       "       ['/global/project/projectdirs/cosmo/data/legacysurvey/dr9/south/sweep/9.0/sweep-290m065-300m060.fits'],\n",
       "       ['/global/project/projectdirs/cosmo/data/legacysurvey/dr9/south/sweep/9.0/sweep-220m020-230m015.fits'],\n",
       "       ['/global/project/projectdirs/cosmo/data/legacysurvey/dr9/south/sweep/9.0/sweep-130m020-140m015.fits'],\n",
       "       ['/global/project/projectdirs/cosmo/data/legacysurvey/dr9/south/sweep/9.0/legacysurvey_dr9_south_sweep_9.0.sha256sum'],\n",
       "       ['/global/project/projectdirs/cosmo/data/legacysurvey/dr9/south/sweep/9.0/sweep-150m020-160m015.fits'],\n",
       "       ['/global/project/projectdirs/cosmo/data/legacysurvey/dr9/south/sweep/9.0/sweep-170m035-180m030.fits']],\n",
       "      dtype=object)"
      ]
     },
     "execution_count": 30,
     "metadata": {},
     "output_type": "execute_result"
    }
   ],
   "source": [
    "check_s[~check_s.patch.isin(check_dr9.patch)].values"
   ]
  },
  {
   "cell_type": "code",
   "execution_count": 7,
   "metadata": {},
   "outputs": [],
   "source": [
    "table.at[0, \"patch\"] = \"/\" + table.iloc[0].patch"
   ]
  },
  {
   "cell_type": "code",
   "execution_count": 9,
   "metadata": {},
   "outputs": [],
   "source": [
    "table.at[0, \"photoz\"] = \"/\" + table.iloc[0].photoz"
   ]
  },
  {
   "cell_type": "code",
   "execution_count": 11,
   "metadata": {},
   "outputs": [],
   "source": [
    "table.at[0, \"masses\"] = \"/\" + table.iloc[0].masses"
   ]
  },
  {
   "cell_type": "code",
   "execution_count": 12,
   "metadata": {},
   "outputs": [
    {
     "data": {
      "text/html": [
       "<div>\n",
       "<style scoped>\n",
       "    .dataframe tbody tr th:only-of-type {\n",
       "        vertical-align: middle;\n",
       "    }\n",
       "\n",
       "    .dataframe tbody tr th {\n",
       "        vertical-align: top;\n",
       "    }\n",
       "\n",
       "    .dataframe thead th {\n",
       "        text-align: right;\n",
       "    }\n",
       "</style>\n",
       "<table border=\"1\" class=\"dataframe\">\n",
       "  <thead>\n",
       "    <tr style=\"text-align: right;\">\n",
       "      <th></th>\n",
       "      <th>Unnamed: 0</th>\n",
       "      <th>patch</th>\n",
       "      <th>mean_RA</th>\n",
       "      <th>mean_DEC</th>\n",
       "      <th>photoz</th>\n",
       "      <th>masses</th>\n",
       "    </tr>\n",
       "  </thead>\n",
       "  <tbody>\n",
       "    <tr>\n",
       "      <th>0</th>\n",
       "      <td>0</td>\n",
       "      <td>/global/cscratch1/sd/mjyb16/DR9/south/sweep/sw...</td>\n",
       "      <td>5.027669</td>\n",
       "      <td>-2.508936</td>\n",
       "      <td>/global/cscratch1/sd/mjyb16/DR9/south/photo-z/...</td>\n",
       "      <td>/global/cscratch1/sd/mjyb16/DR9/south/stellar_...</td>\n",
       "    </tr>\n",
       "    <tr>\n",
       "      <th>1</th>\n",
       "      <td>0</td>\n",
       "      <td>/global/cscratch1/sd/mjyb16/DR9/south/sweep/sw...</td>\n",
       "      <td>195.206692</td>\n",
       "      <td>31.979525</td>\n",
       "      <td>/global/cscratch1/sd/mjyb16/DR9/south/photo-z/...</td>\n",
       "      <td>/global/cscratch1/sd/mjyb16/DR9/south/stellar_...</td>\n",
       "    </tr>\n",
       "    <tr>\n",
       "      <th>2</th>\n",
       "      <td>1</td>\n",
       "      <td>/global/cscratch1/sd/mjyb16/DR9/south/sweep/sw...</td>\n",
       "      <td>175.036076</td>\n",
       "      <td>27.486449</td>\n",
       "      <td>/global/cscratch1/sd/mjyb16/DR9/south/photo-z/...</td>\n",
       "      <td>/global/cscratch1/sd/mjyb16/DR9/south/stellar_...</td>\n",
       "    </tr>\n",
       "    <tr>\n",
       "      <th>3</th>\n",
       "      <td>2</td>\n",
       "      <td>/global/cscratch1/sd/mjyb16/DR9/south/sweep/sw...</td>\n",
       "      <td>184.901037</td>\n",
       "      <td>32.099699</td>\n",
       "      <td>/global/cscratch1/sd/mjyb16/DR9/south/photo-z/...</td>\n",
       "      <td>/global/cscratch1/sd/mjyb16/DR9/south/stellar_...</td>\n",
       "    </tr>\n",
       "    <tr>\n",
       "      <th>4</th>\n",
       "      <td>3</td>\n",
       "      <td>/global/cscratch1/sd/mjyb16/DR9/south/sweep/sw...</td>\n",
       "      <td>184.882132</td>\n",
       "      <td>27.488065</td>\n",
       "      <td>/global/cscratch1/sd/mjyb16/DR9/south/photo-z/...</td>\n",
       "      <td>/global/cscratch1/sd/mjyb16/DR9/south/stellar_...</td>\n",
       "    </tr>\n",
       "  </tbody>\n",
       "</table>\n",
       "</div>"
      ],
      "text/plain": [
       "   Unnamed: 0                                              patch     mean_RA  \\\n",
       "0           0  /global/cscratch1/sd/mjyb16/DR9/south/sweep/sw...    5.027669   \n",
       "1           0  /global/cscratch1/sd/mjyb16/DR9/south/sweep/sw...  195.206692   \n",
       "2           1  /global/cscratch1/sd/mjyb16/DR9/south/sweep/sw...  175.036076   \n",
       "3           2  /global/cscratch1/sd/mjyb16/DR9/south/sweep/sw...  184.901037   \n",
       "4           3  /global/cscratch1/sd/mjyb16/DR9/south/sweep/sw...  184.882132   \n",
       "\n",
       "    mean_DEC                                             photoz  \\\n",
       "0  -2.508936  /global/cscratch1/sd/mjyb16/DR9/south/photo-z/...   \n",
       "1  31.979525  /global/cscratch1/sd/mjyb16/DR9/south/photo-z/...   \n",
       "2  27.486449  /global/cscratch1/sd/mjyb16/DR9/south/photo-z/...   \n",
       "3  32.099699  /global/cscratch1/sd/mjyb16/DR9/south/photo-z/...   \n",
       "4  27.488065  /global/cscratch1/sd/mjyb16/DR9/south/photo-z/...   \n",
       "\n",
       "                                              masses  \n",
       "0  /global/cscratch1/sd/mjyb16/DR9/south/stellar_...  \n",
       "1  /global/cscratch1/sd/mjyb16/DR9/south/stellar_...  \n",
       "2  /global/cscratch1/sd/mjyb16/DR9/south/stellar_...  \n",
       "3  /global/cscratch1/sd/mjyb16/DR9/south/stellar_...  \n",
       "4  /global/cscratch1/sd/mjyb16/DR9/south/stellar_...  "
      ]
     },
     "execution_count": 12,
     "metadata": {},
     "output_type": "execute_result"
    }
   ],
   "source": [
    "table.head()"
   ]
  },
  {
   "cell_type": "code",
   "execution_count": 13,
   "metadata": {},
   "outputs": [
    {
     "data": {
      "text/plain": [
       "'/global/cscratch1/sd/mjyb16/DR9/south/sweep/'"
      ]
     },
     "execution_count": 13,
     "metadata": {},
     "output_type": "execute_result"
    }
   ],
   "source": [
    "table.iloc[0].patch[0:44]"
   ]
  },
  {
   "cell_type": "code",
   "execution_count": 15,
   "metadata": {},
   "outputs": [
    {
     "data": {
      "text/plain": [
       "'sweep-310m065-320m060.fits'"
      ]
     },
     "execution_count": 15,
     "metadata": {},
     "output_type": "execute_result"
    }
   ],
   "source": [
    "table.iloc[0].patch[44:]"
   ]
  },
  {
   "cell_type": "code",
   "execution_count": 17,
   "metadata": {},
   "outputs": [
    {
     "data": {
      "text/plain": [
       "'sweep-310m065-320m060_stellar_mass.npy'"
      ]
     },
     "execution_count": 17,
     "metadata": {},
     "output_type": "execute_result"
    }
   ],
   "source": [
    "table.iloc[0].masses[51:]"
   ]
  },
  {
   "cell_type": "code",
   "execution_count": 21,
   "metadata": {},
   "outputs": [
    {
     "data": {
      "text/plain": [
       "'/global/cscratch1/sd/mjyb16/DR9/south/'"
      ]
     },
     "execution_count": 21,
     "metadata": {},
     "output_type": "execute_result"
    }
   ],
   "source": [
    "table.iloc[0].patch[0:38]"
   ]
  },
  {
   "cell_type": "code",
   "execution_count": 7,
   "metadata": {},
   "outputs": [
    {
     "data": {
      "text/plain": [
       "'/data/mjb299/pz'"
      ]
     },
     "execution_count": 7,
     "metadata": {},
     "output_type": "execute_result"
    }
   ],
   "source": [
    "table.iloc[0].masses[0:15]"
   ]
  },
  {
   "cell_type": "code",
   "execution_count": 39,
   "metadata": {},
   "outputs": [
    {
     "data": {
      "text/plain": [
       "'/global/cscratch1/sd/mjyb16/DR9/north/'"
      ]
     },
     "execution_count": 39,
     "metadata": {},
     "output_type": "execute_result"
    }
   ],
   "source": [
    "table.iloc[500].patch[:38]"
   ]
  },
  {
   "cell_type": "code",
   "execution_count": 5,
   "metadata": {},
   "outputs": [],
   "source": [
    "table2 = table.copy()"
   ]
  },
  {
   "cell_type": "code",
   "execution_count": 8,
   "metadata": {
    "jupyter": {
     "source_hidden": true
    },
    "tags": []
   },
   "outputs": [],
   "source": [
    "for i in range(len(table)):\n",
    "    if table.iloc[i].patch[0:71] == '/global/project/projectdirs/cosmo/data/legacysurvey/dr8/south/sweep/8.0':\n",
    "        table2.at[i, \"patch\"] = '/global/project/projectdirs/cosmo/data/legacysurvey/dr9/south/sweep/9.0' + table.iloc[i].patch[71:]\n",
    "        table2.at[i, \"photoz\"] = '/global/project/projectdirs/cosmo/data/legacysurvey/dr9/south/sweep/9.0-photo-z' + table.iloc[i].photoz[79:]\n",
    "        table2.at[i, \"masses\"] = '/global/cfs/cdirs/desi/users/rongpu/ls_dr9.0_photoz/stellar_mass/south' + table.iloc[i].masses[63:]\n",
    "    else:\n",
    "        table2.at[i, \"patch\"] = '/global/project/projectdirs/cosmo/data/legacysurvey/dr9/north/sweep/9.0' + table.iloc[i].patch[71:]\n",
    "        table2.at[i, \"photoz\"] = '/global/project/projectdirs/cosmo/data/legacysurvey/dr9/north/sweep/9.0-photo-z' + table.iloc[i].photoz[79:]\n",
    "        table2.at[i, \"masses\"] = '/global/cfs/cdirs/desi/users/rongpu/ls_dr9.0_photoz/stellar_mass/north' + table.iloc[i].masses[63:]"
   ]
  },
  {
   "cell_type": "code",
   "execution_count": 10,
   "metadata": {
    "jupyter": {
     "source_hidden": true
    },
    "tags": []
   },
   "outputs": [],
   "source": [
    "#For dara\n",
    "for i in range(len(table)):\n",
    "    if table.iloc[i].patch[0:19] == '/data/mjb299/sweep/':\n",
    "        table2.at[i, \"patch\"] = '/global/cscratch1/sd/mjyb16/DR9/south/sweep' + table.iloc[i].patch[18:]\n",
    "        table2.at[i, \"photoz\"] = '/global/cscratch1/sd/mjyb16/DR9/south/photo-z' + table.iloc[i].photoz[15:]\n",
    "        table2.at[i, \"masses\"] = '/global/cscratch1/sd/mjyb16/DR9/south/stellar_mass' + table.iloc[i].masses[15:]\n",
    "    else:\n",
    "        table2.at[i, \"patch\"] = '/global/cscratch1/sd/mjyb16/DR9/north/sweep' + table.iloc[i].patch[18:]\n",
    "        table2.at[i, \"photoz\"] = '/global/cscratch1/sd/mjyb16/DR9/north/photo-z' + table.iloc[i].photoz[15:]\n",
    "        table2.at[i, \"masses\"] = '/global/cscratch1/sd/mjyb16/DR9/north/stellar_mass' + table.iloc[i].masses[15:]"
   ]
  },
  {
   "cell_type": "code",
   "execution_count": 6,
   "metadata": {},
   "outputs": [],
   "source": [
    "for i in range(len(table)):\n",
    "    if table.iloc[i].patch[0:38] == '/global/cscratch1/sd/mjyb16/DR9/south/':\n",
    "        table2.at[i, \"patch\"] = '/global/project/projectdirs/cosmo/data/legacysurvey/dr9/south/sweep/9.0/' + table.iloc[i].patch[44:]\n",
    "        table2.at[i, \"photoz\"] = '/global/project/projectdirs/cosmo/data/legacysurvey/dr9/south/sweep/9.0-photo-z/' + table.iloc[i].photoz[46:]\n",
    "        table2.at[i, \"masses\"] = '/global/cfs/cdirs/desi/users/rongpu/ls_dr9.0_photoz/stellar_mass/south/' + table.iloc[i].masses[51:]\n",
    "    else:\n",
    "        table2.at[i, \"patch\"] = '/global/project/projectdirs/cosmo/data/legacysurvey/dr9/north/sweep/9.0/' + table.iloc[i].patch[44:]\n",
    "        table2.at[i, \"photoz\"] = '/global/project/projectdirs/cosmo/data/legacysurvey/dr9/north/sweep/9.0-photo-z/' + table.iloc[i].photoz[46:]\n",
    "        table2.at[i, \"masses\"] = '/global/cfs/cdirs/desi/users/rongpu/ls_dr9.0_photoz/stellar_mass/north/' + table.iloc[i].masses[51:]"
   ]
  },
  {
   "cell_type": "code",
   "execution_count": 7,
   "metadata": {},
   "outputs": [
    {
     "data": {
      "text/html": [
       "<div>\n",
       "<style scoped>\n",
       "    .dataframe tbody tr th:only-of-type {\n",
       "        vertical-align: middle;\n",
       "    }\n",
       "\n",
       "    .dataframe tbody tr th {\n",
       "        vertical-align: top;\n",
       "    }\n",
       "\n",
       "    .dataframe thead th {\n",
       "        text-align: right;\n",
       "    }\n",
       "</style>\n",
       "<table border=\"1\" class=\"dataframe\">\n",
       "  <thead>\n",
       "    <tr style=\"text-align: right;\">\n",
       "      <th></th>\n",
       "      <th>Unnamed: 0</th>\n",
       "      <th>patch</th>\n",
       "      <th>mean_RA</th>\n",
       "      <th>mean_DEC</th>\n",
       "      <th>photoz</th>\n",
       "      <th>masses</th>\n",
       "    </tr>\n",
       "  </thead>\n",
       "  <tbody>\n",
       "    <tr>\n",
       "      <th>0</th>\n",
       "      <td>0</td>\n",
       "      <td>/global/project/projectdirs/cosmo/data/legacys...</td>\n",
       "      <td>314.892485</td>\n",
       "      <td>-62.431671</td>\n",
       "      <td>/global/project/projectdirs/cosmo/data/legacys...</td>\n",
       "      <td>/global/cfs/cdirs/desi/users/rongpu/ls_dr9.0_p...</td>\n",
       "    </tr>\n",
       "    <tr>\n",
       "      <th>1</th>\n",
       "      <td>1</td>\n",
       "      <td>/global/project/projectdirs/cosmo/data/legacys...</td>\n",
       "      <td>24.980432</td>\n",
       "      <td>-62.448687</td>\n",
       "      <td>/global/project/projectdirs/cosmo/data/legacys...</td>\n",
       "      <td>/global/cfs/cdirs/desi/users/rongpu/ls_dr9.0_p...</td>\n",
       "    </tr>\n",
       "    <tr>\n",
       "      <th>2</th>\n",
       "      <td>2</td>\n",
       "      <td>/global/project/projectdirs/cosmo/data/legacys...</td>\n",
       "      <td>325.084723</td>\n",
       "      <td>-12.332183</td>\n",
       "      <td>/global/project/projectdirs/cosmo/data/legacys...</td>\n",
       "      <td>/global/cfs/cdirs/desi/users/rongpu/ls_dr9.0_p...</td>\n",
       "    </tr>\n",
       "    <tr>\n",
       "      <th>3</th>\n",
       "      <td>3</td>\n",
       "      <td>/global/project/projectdirs/cosmo/data/legacys...</td>\n",
       "      <td>145.009759</td>\n",
       "      <td>27.486088</td>\n",
       "      <td>/global/project/projectdirs/cosmo/data/legacys...</td>\n",
       "      <td>/global/cfs/cdirs/desi/users/rongpu/ls_dr9.0_p...</td>\n",
       "    </tr>\n",
       "    <tr>\n",
       "      <th>4</th>\n",
       "      <td>4</td>\n",
       "      <td>/global/project/projectdirs/cosmo/data/legacys...</td>\n",
       "      <td>354.939935</td>\n",
       "      <td>12.495436</td>\n",
       "      <td>/global/project/projectdirs/cosmo/data/legacys...</td>\n",
       "      <td>/global/cfs/cdirs/desi/users/rongpu/ls_dr9.0_p...</td>\n",
       "    </tr>\n",
       "    <tr>\n",
       "      <th>5</th>\n",
       "      <td>5</td>\n",
       "      <td>/global/project/projectdirs/cosmo/data/legacys...</td>\n",
       "      <td>4.758611</td>\n",
       "      <td>-57.517322</td>\n",
       "      <td>/global/project/projectdirs/cosmo/data/legacys...</td>\n",
       "      <td>/global/cfs/cdirs/desi/users/rongpu/ls_dr9.0_p...</td>\n",
       "    </tr>\n",
       "    <tr>\n",
       "      <th>6</th>\n",
       "      <td>6</td>\n",
       "      <td>/global/project/projectdirs/cosmo/data/legacys...</td>\n",
       "      <td>124.837776</td>\n",
       "      <td>17.469688</td>\n",
       "      <td>/global/project/projectdirs/cosmo/data/legacys...</td>\n",
       "      <td>/global/cfs/cdirs/desi/users/rongpu/ls_dr9.0_p...</td>\n",
       "    </tr>\n",
       "    <tr>\n",
       "      <th>7</th>\n",
       "      <td>7</td>\n",
       "      <td>/global/project/projectdirs/cosmo/data/legacys...</td>\n",
       "      <td>224.909570</td>\n",
       "      <td>32.187007</td>\n",
       "      <td>/global/project/projectdirs/cosmo/data/legacys...</td>\n",
       "      <td>/global/cfs/cdirs/desi/users/rongpu/ls_dr9.0_p...</td>\n",
       "    </tr>\n",
       "    <tr>\n",
       "      <th>8</th>\n",
       "      <td>8</td>\n",
       "      <td>/global/project/projectdirs/cosmo/data/legacys...</td>\n",
       "      <td>344.806292</td>\n",
       "      <td>-65.929807</td>\n",
       "      <td>/global/project/projectdirs/cosmo/data/legacys...</td>\n",
       "      <td>/global/cfs/cdirs/desi/users/rongpu/ls_dr9.0_p...</td>\n",
       "    </tr>\n",
       "    <tr>\n",
       "      <th>9</th>\n",
       "      <td>9</td>\n",
       "      <td>/global/project/projectdirs/cosmo/data/legacys...</td>\n",
       "      <td>66.843891</td>\n",
       "      <td>0.972694</td>\n",
       "      <td>/global/project/projectdirs/cosmo/data/legacys...</td>\n",
       "      <td>/global/cfs/cdirs/desi/users/rongpu/ls_dr9.0_p...</td>\n",
       "    </tr>\n",
       "    <tr>\n",
       "      <th>10</th>\n",
       "      <td>10</td>\n",
       "      <td>/global/project/projectdirs/cosmo/data/legacys...</td>\n",
       "      <td>359.571899</td>\n",
       "      <td>-33.452060</td>\n",
       "      <td>/global/project/projectdirs/cosmo/data/legacys...</td>\n",
       "      <td>/global/cfs/cdirs/desi/users/rongpu/ls_dr9.0_p...</td>\n",
       "    </tr>\n",
       "    <tr>\n",
       "      <th>11</th>\n",
       "      <td>11</td>\n",
       "      <td>/global/project/projectdirs/cosmo/data/legacys...</td>\n",
       "      <td>345.006234</td>\n",
       "      <td>-2.201180</td>\n",
       "      <td>/global/project/projectdirs/cosmo/data/legacys...</td>\n",
       "      <td>/global/cfs/cdirs/desi/users/rongpu/ls_dr9.0_p...</td>\n",
       "    </tr>\n",
       "    <tr>\n",
       "      <th>12</th>\n",
       "      <td>12</td>\n",
       "      <td>/global/project/projectdirs/cosmo/data/legacys...</td>\n",
       "      <td>45.214348</td>\n",
       "      <td>-42.326531</td>\n",
       "      <td>/global/project/projectdirs/cosmo/data/legacys...</td>\n",
       "      <td>/global/cfs/cdirs/desi/users/rongpu/ls_dr9.0_p...</td>\n",
       "    </tr>\n",
       "    <tr>\n",
       "      <th>13</th>\n",
       "      <td>13</td>\n",
       "      <td>/global/project/projectdirs/cosmo/data/legacys...</td>\n",
       "      <td>351.918020</td>\n",
       "      <td>-15.096843</td>\n",
       "      <td>/global/project/projectdirs/cosmo/data/legacys...</td>\n",
       "      <td>/global/cfs/cdirs/desi/users/rongpu/ls_dr9.0_p...</td>\n",
       "    </tr>\n",
       "    <tr>\n",
       "      <th>14</th>\n",
       "      <td>14</td>\n",
       "      <td>/global/project/projectdirs/cosmo/data/legacys...</td>\n",
       "      <td>65.197274</td>\n",
       "      <td>-52.536176</td>\n",
       "      <td>/global/project/projectdirs/cosmo/data/legacys...</td>\n",
       "      <td>/global/cfs/cdirs/desi/users/rongpu/ls_dr9.0_p...</td>\n",
       "    </tr>\n",
       "    <tr>\n",
       "      <th>15</th>\n",
       "      <td>15</td>\n",
       "      <td>/global/project/projectdirs/cosmo/data/legacys...</td>\n",
       "      <td>355.002584</td>\n",
       "      <td>-7.534810</td>\n",
       "      <td>/global/project/projectdirs/cosmo/data/legacys...</td>\n",
       "      <td>/global/cfs/cdirs/desi/users/rongpu/ls_dr9.0_p...</td>\n",
       "    </tr>\n",
       "    <tr>\n",
       "      <th>16</th>\n",
       "      <td>16</td>\n",
       "      <td>/global/project/projectdirs/cosmo/data/legacys...</td>\n",
       "      <td>185.007293</td>\n",
       "      <td>17.468987</td>\n",
       "      <td>/global/project/projectdirs/cosmo/data/legacys...</td>\n",
       "      <td>/global/cfs/cdirs/desi/users/rongpu/ls_dr9.0_p...</td>\n",
       "    </tr>\n",
       "    <tr>\n",
       "      <th>17</th>\n",
       "      <td>17</td>\n",
       "      <td>/global/project/projectdirs/cosmo/data/legacys...</td>\n",
       "      <td>265.159271</td>\n",
       "      <td>31.806997</td>\n",
       "      <td>/global/project/projectdirs/cosmo/data/legacys...</td>\n",
       "      <td>/global/cfs/cdirs/desi/users/rongpu/ls_dr9.0_p...</td>\n",
       "    </tr>\n",
       "    <tr>\n",
       "      <th>18</th>\n",
       "      <td>18</td>\n",
       "      <td>/global/project/projectdirs/cosmo/data/legacys...</td>\n",
       "      <td>41.420279</td>\n",
       "      <td>17.657293</td>\n",
       "      <td>/global/project/projectdirs/cosmo/data/legacys...</td>\n",
       "      <td>/global/cfs/cdirs/desi/users/rongpu/ls_dr9.0_p...</td>\n",
       "    </tr>\n",
       "    <tr>\n",
       "      <th>19</th>\n",
       "      <td>19</td>\n",
       "      <td>/global/project/projectdirs/cosmo/data/legacys...</td>\n",
       "      <td>253.188480</td>\n",
       "      <td>2.639256</td>\n",
       "      <td>/global/project/projectdirs/cosmo/data/legacys...</td>\n",
       "      <td>/global/cfs/cdirs/desi/users/rongpu/ls_dr9.0_p...</td>\n",
       "    </tr>\n",
       "  </tbody>\n",
       "</table>\n",
       "</div>"
      ],
      "text/plain": [
       "    Unnamed: 0                                              patch     mean_RA  \\\n",
       "0            0  /global/project/projectdirs/cosmo/data/legacys...  314.892485   \n",
       "1            1  /global/project/projectdirs/cosmo/data/legacys...   24.980432   \n",
       "2            2  /global/project/projectdirs/cosmo/data/legacys...  325.084723   \n",
       "3            3  /global/project/projectdirs/cosmo/data/legacys...  145.009759   \n",
       "4            4  /global/project/projectdirs/cosmo/data/legacys...  354.939935   \n",
       "5            5  /global/project/projectdirs/cosmo/data/legacys...    4.758611   \n",
       "6            6  /global/project/projectdirs/cosmo/data/legacys...  124.837776   \n",
       "7            7  /global/project/projectdirs/cosmo/data/legacys...  224.909570   \n",
       "8            8  /global/project/projectdirs/cosmo/data/legacys...  344.806292   \n",
       "9            9  /global/project/projectdirs/cosmo/data/legacys...   66.843891   \n",
       "10          10  /global/project/projectdirs/cosmo/data/legacys...  359.571899   \n",
       "11          11  /global/project/projectdirs/cosmo/data/legacys...  345.006234   \n",
       "12          12  /global/project/projectdirs/cosmo/data/legacys...   45.214348   \n",
       "13          13  /global/project/projectdirs/cosmo/data/legacys...  351.918020   \n",
       "14          14  /global/project/projectdirs/cosmo/data/legacys...   65.197274   \n",
       "15          15  /global/project/projectdirs/cosmo/data/legacys...  355.002584   \n",
       "16          16  /global/project/projectdirs/cosmo/data/legacys...  185.007293   \n",
       "17          17  /global/project/projectdirs/cosmo/data/legacys...  265.159271   \n",
       "18          18  /global/project/projectdirs/cosmo/data/legacys...   41.420279   \n",
       "19          19  /global/project/projectdirs/cosmo/data/legacys...  253.188480   \n",
       "\n",
       "     mean_DEC                                             photoz  \\\n",
       "0  -62.431671  /global/project/projectdirs/cosmo/data/legacys...   \n",
       "1  -62.448687  /global/project/projectdirs/cosmo/data/legacys...   \n",
       "2  -12.332183  /global/project/projectdirs/cosmo/data/legacys...   \n",
       "3   27.486088  /global/project/projectdirs/cosmo/data/legacys...   \n",
       "4   12.495436  /global/project/projectdirs/cosmo/data/legacys...   \n",
       "5  -57.517322  /global/project/projectdirs/cosmo/data/legacys...   \n",
       "6   17.469688  /global/project/projectdirs/cosmo/data/legacys...   \n",
       "7   32.187007  /global/project/projectdirs/cosmo/data/legacys...   \n",
       "8  -65.929807  /global/project/projectdirs/cosmo/data/legacys...   \n",
       "9    0.972694  /global/project/projectdirs/cosmo/data/legacys...   \n",
       "10 -33.452060  /global/project/projectdirs/cosmo/data/legacys...   \n",
       "11  -2.201180  /global/project/projectdirs/cosmo/data/legacys...   \n",
       "12 -42.326531  /global/project/projectdirs/cosmo/data/legacys...   \n",
       "13 -15.096843  /global/project/projectdirs/cosmo/data/legacys...   \n",
       "14 -52.536176  /global/project/projectdirs/cosmo/data/legacys...   \n",
       "15  -7.534810  /global/project/projectdirs/cosmo/data/legacys...   \n",
       "16  17.468987  /global/project/projectdirs/cosmo/data/legacys...   \n",
       "17  31.806997  /global/project/projectdirs/cosmo/data/legacys...   \n",
       "18  17.657293  /global/project/projectdirs/cosmo/data/legacys...   \n",
       "19   2.639256  /global/project/projectdirs/cosmo/data/legacys...   \n",
       "\n",
       "                                               masses  \n",
       "0   /global/cfs/cdirs/desi/users/rongpu/ls_dr9.0_p...  \n",
       "1   /global/cfs/cdirs/desi/users/rongpu/ls_dr9.0_p...  \n",
       "2   /global/cfs/cdirs/desi/users/rongpu/ls_dr9.0_p...  \n",
       "3   /global/cfs/cdirs/desi/users/rongpu/ls_dr9.0_p...  \n",
       "4   /global/cfs/cdirs/desi/users/rongpu/ls_dr9.0_p...  \n",
       "5   /global/cfs/cdirs/desi/users/rongpu/ls_dr9.0_p...  \n",
       "6   /global/cfs/cdirs/desi/users/rongpu/ls_dr9.0_p...  \n",
       "7   /global/cfs/cdirs/desi/users/rongpu/ls_dr9.0_p...  \n",
       "8   /global/cfs/cdirs/desi/users/rongpu/ls_dr9.0_p...  \n",
       "9   /global/cfs/cdirs/desi/users/rongpu/ls_dr9.0_p...  \n",
       "10  /global/cfs/cdirs/desi/users/rongpu/ls_dr9.0_p...  \n",
       "11  /global/cfs/cdirs/desi/users/rongpu/ls_dr9.0_p...  \n",
       "12  /global/cfs/cdirs/desi/users/rongpu/ls_dr9.0_p...  \n",
       "13  /global/cfs/cdirs/desi/users/rongpu/ls_dr9.0_p...  \n",
       "14  /global/cfs/cdirs/desi/users/rongpu/ls_dr9.0_p...  \n",
       "15  /global/cfs/cdirs/desi/users/rongpu/ls_dr9.0_p...  \n",
       "16  /global/cfs/cdirs/desi/users/rongpu/ls_dr9.0_p...  \n",
       "17  /global/cfs/cdirs/desi/users/rongpu/ls_dr9.0_p...  \n",
       "18  /global/cfs/cdirs/desi/users/rongpu/ls_dr9.0_p...  \n",
       "19  /global/cfs/cdirs/desi/users/rongpu/ls_dr9.0_p...  "
      ]
     },
     "execution_count": 7,
     "metadata": {},
     "output_type": "execute_result"
    }
   ],
   "source": [
    "table2.head(20)"
   ]
  },
  {
   "cell_type": "code",
   "execution_count": 8,
   "metadata": {},
   "outputs": [
    {
     "data": {
      "text/plain": [
       "'/global/project/projectdirs/cosmo/data/legacysurvey/dr9/north/sweep/9.0-photo-z/sweep-030p025-040p030-pz.fits'"
      ]
     },
     "execution_count": 8,
     "metadata": {},
     "output_type": "execute_result"
    }
   ],
   "source": [
    "table2.photoz.iloc[500]"
   ]
  },
  {
   "cell_type": "code",
   "execution_count": 9,
   "metadata": {},
   "outputs": [],
   "source": [
    "table2 = table2[[\"patch\", \"mean_RA\", \"mean_DEC\", \"photoz\", \"masses\"]]"
   ]
  },
  {
   "cell_type": "code",
   "execution_count": 10,
   "metadata": {},
   "outputs": [
    {
     "data": {
      "text/html": [
       "<div>\n",
       "<style scoped>\n",
       "    .dataframe tbody tr th:only-of-type {\n",
       "        vertical-align: middle;\n",
       "    }\n",
       "\n",
       "    .dataframe tbody tr th {\n",
       "        vertical-align: top;\n",
       "    }\n",
       "\n",
       "    .dataframe thead th {\n",
       "        text-align: right;\n",
       "    }\n",
       "</style>\n",
       "<table border=\"1\" class=\"dataframe\">\n",
       "  <thead>\n",
       "    <tr style=\"text-align: right;\">\n",
       "      <th></th>\n",
       "      <th>patch</th>\n",
       "      <th>mean_RA</th>\n",
       "      <th>mean_DEC</th>\n",
       "      <th>photoz</th>\n",
       "      <th>masses</th>\n",
       "    </tr>\n",
       "  </thead>\n",
       "  <tbody>\n",
       "    <tr>\n",
       "      <th>0</th>\n",
       "      <td>/global/project/projectdirs/cosmo/data/legacys...</td>\n",
       "      <td>314.892485</td>\n",
       "      <td>-62.431671</td>\n",
       "      <td>/global/project/projectdirs/cosmo/data/legacys...</td>\n",
       "      <td>/global/cfs/cdirs/desi/users/rongpu/ls_dr9.0_p...</td>\n",
       "    </tr>\n",
       "    <tr>\n",
       "      <th>1</th>\n",
       "      <td>/global/project/projectdirs/cosmo/data/legacys...</td>\n",
       "      <td>24.980432</td>\n",
       "      <td>-62.448687</td>\n",
       "      <td>/global/project/projectdirs/cosmo/data/legacys...</td>\n",
       "      <td>/global/cfs/cdirs/desi/users/rongpu/ls_dr9.0_p...</td>\n",
       "    </tr>\n",
       "    <tr>\n",
       "      <th>2</th>\n",
       "      <td>/global/project/projectdirs/cosmo/data/legacys...</td>\n",
       "      <td>325.084723</td>\n",
       "      <td>-12.332183</td>\n",
       "      <td>/global/project/projectdirs/cosmo/data/legacys...</td>\n",
       "      <td>/global/cfs/cdirs/desi/users/rongpu/ls_dr9.0_p...</td>\n",
       "    </tr>\n",
       "    <tr>\n",
       "      <th>3</th>\n",
       "      <td>/global/project/projectdirs/cosmo/data/legacys...</td>\n",
       "      <td>145.009759</td>\n",
       "      <td>27.486088</td>\n",
       "      <td>/global/project/projectdirs/cosmo/data/legacys...</td>\n",
       "      <td>/global/cfs/cdirs/desi/users/rongpu/ls_dr9.0_p...</td>\n",
       "    </tr>\n",
       "    <tr>\n",
       "      <th>4</th>\n",
       "      <td>/global/project/projectdirs/cosmo/data/legacys...</td>\n",
       "      <td>354.939935</td>\n",
       "      <td>12.495436</td>\n",
       "      <td>/global/project/projectdirs/cosmo/data/legacys...</td>\n",
       "      <td>/global/cfs/cdirs/desi/users/rongpu/ls_dr9.0_p...</td>\n",
       "    </tr>\n",
       "    <tr>\n",
       "      <th>...</th>\n",
       "      <td>...</td>\n",
       "      <td>...</td>\n",
       "      <td>...</td>\n",
       "      <td>...</td>\n",
       "      <td>...</td>\n",
       "    </tr>\n",
       "    <tr>\n",
       "      <th>718</th>\n",
       "      <td>/global/project/projectdirs/cosmo/data/legacys...</td>\n",
       "      <td>165.070928</td>\n",
       "      <td>52.476764</td>\n",
       "      <td>/global/project/projectdirs/cosmo/data/legacys...</td>\n",
       "      <td>/global/cfs/cdirs/desi/users/rongpu/ls_dr9.0_p...</td>\n",
       "    </tr>\n",
       "    <tr>\n",
       "      <th>719</th>\n",
       "      <td>/global/project/projectdirs/cosmo/data/legacys...</td>\n",
       "      <td>234.998847</td>\n",
       "      <td>72.389863</td>\n",
       "      <td>/global/project/projectdirs/cosmo/data/legacys...</td>\n",
       "      <td>/global/cfs/cdirs/desi/users/rongpu/ls_dr9.0_p...</td>\n",
       "    </tr>\n",
       "    <tr>\n",
       "      <th>720</th>\n",
       "      <td>/global/project/projectdirs/cosmo/data/legacys...</td>\n",
       "      <td>204.957928</td>\n",
       "      <td>67.397069</td>\n",
       "      <td>/global/project/projectdirs/cosmo/data/legacys...</td>\n",
       "      <td>/global/cfs/cdirs/desi/users/rongpu/ls_dr9.0_p...</td>\n",
       "    </tr>\n",
       "    <tr>\n",
       "      <th>721</th>\n",
       "      <td>/global/project/projectdirs/cosmo/data/legacys...</td>\n",
       "      <td>114.944999</td>\n",
       "      <td>62.423152</td>\n",
       "      <td>/global/project/projectdirs/cosmo/data/legacys...</td>\n",
       "      <td>/global/cfs/cdirs/desi/users/rongpu/ls_dr9.0_p...</td>\n",
       "    </tr>\n",
       "    <tr>\n",
       "      <th>722</th>\n",
       "      <td>/global/project/projectdirs/cosmo/data/legacys...</td>\n",
       "      <td>124.894397</td>\n",
       "      <td>62.428700</td>\n",
       "      <td>/global/project/projectdirs/cosmo/data/legacys...</td>\n",
       "      <td>/global/cfs/cdirs/desi/users/rongpu/ls_dr9.0_p...</td>\n",
       "    </tr>\n",
       "  </tbody>\n",
       "</table>\n",
       "<p>723 rows × 5 columns</p>\n",
       "</div>"
      ],
      "text/plain": [
       "                                                 patch     mean_RA   mean_DEC  \\\n",
       "0    /global/project/projectdirs/cosmo/data/legacys...  314.892485 -62.431671   \n",
       "1    /global/project/projectdirs/cosmo/data/legacys...   24.980432 -62.448687   \n",
       "2    /global/project/projectdirs/cosmo/data/legacys...  325.084723 -12.332183   \n",
       "3    /global/project/projectdirs/cosmo/data/legacys...  145.009759  27.486088   \n",
       "4    /global/project/projectdirs/cosmo/data/legacys...  354.939935  12.495436   \n",
       "..                                                 ...         ...        ...   \n",
       "718  /global/project/projectdirs/cosmo/data/legacys...  165.070928  52.476764   \n",
       "719  /global/project/projectdirs/cosmo/data/legacys...  234.998847  72.389863   \n",
       "720  /global/project/projectdirs/cosmo/data/legacys...  204.957928  67.397069   \n",
       "721  /global/project/projectdirs/cosmo/data/legacys...  114.944999  62.423152   \n",
       "722  /global/project/projectdirs/cosmo/data/legacys...  124.894397  62.428700   \n",
       "\n",
       "                                                photoz  \\\n",
       "0    /global/project/projectdirs/cosmo/data/legacys...   \n",
       "1    /global/project/projectdirs/cosmo/data/legacys...   \n",
       "2    /global/project/projectdirs/cosmo/data/legacys...   \n",
       "3    /global/project/projectdirs/cosmo/data/legacys...   \n",
       "4    /global/project/projectdirs/cosmo/data/legacys...   \n",
       "..                                                 ...   \n",
       "718  /global/project/projectdirs/cosmo/data/legacys...   \n",
       "719  /global/project/projectdirs/cosmo/data/legacys...   \n",
       "720  /global/project/projectdirs/cosmo/data/legacys...   \n",
       "721  /global/project/projectdirs/cosmo/data/legacys...   \n",
       "722  /global/project/projectdirs/cosmo/data/legacys...   \n",
       "\n",
       "                                                masses  \n",
       "0    /global/cfs/cdirs/desi/users/rongpu/ls_dr9.0_p...  \n",
       "1    /global/cfs/cdirs/desi/users/rongpu/ls_dr9.0_p...  \n",
       "2    /global/cfs/cdirs/desi/users/rongpu/ls_dr9.0_p...  \n",
       "3    /global/cfs/cdirs/desi/users/rongpu/ls_dr9.0_p...  \n",
       "4    /global/cfs/cdirs/desi/users/rongpu/ls_dr9.0_p...  \n",
       "..                                                 ...  \n",
       "718  /global/cfs/cdirs/desi/users/rongpu/ls_dr9.0_p...  \n",
       "719  /global/cfs/cdirs/desi/users/rongpu/ls_dr9.0_p...  \n",
       "720  /global/cfs/cdirs/desi/users/rongpu/ls_dr9.0_p...  \n",
       "721  /global/cfs/cdirs/desi/users/rongpu/ls_dr9.0_p...  \n",
       "722  /global/cfs/cdirs/desi/users/rongpu/ls_dr9.0_p...  \n",
       "\n",
       "[723 rows x 5 columns]"
      ]
     },
     "execution_count": 10,
     "metadata": {},
     "output_type": "execute_result"
    }
   ],
   "source": [
    "table2"
   ]
  },
  {
   "cell_type": "code",
   "execution_count": 11,
   "metadata": {},
   "outputs": [],
   "source": [
    "table2.to_csv(\"dr9_sweeps.csv\")"
   ]
  },
  {
   "cell_type": "code",
   "execution_count": 45,
   "metadata": {},
   "outputs": [],
   "source": [
    "from astropy.io import fits"
   ]
  },
  {
   "cell_type": "code",
   "execution_count": 16,
   "metadata": {},
   "outputs": [],
   "source": []
  },
  {
   "cell_type": "code",
   "execution_count": null,
   "metadata": {},
   "outputs": [],
   "source": []
  }
 ],
 "metadata": {
  "kernelspec": {
   "display_name": "NERSC Python",
   "language": "python",
   "name": "python3"
  },
  "language_info": {
   "codemirror_mode": {
    "name": "ipython",
    "version": 3
   },
   "file_extension": ".py",
   "mimetype": "text/x-python",
   "name": "python",
   "nbconvert_exporter": "python",
   "pygments_lexer": "ipython3",
   "version": "3.9.7"
  }
 },
 "nbformat": 4,
 "nbformat_minor": 4
}
