{
 "cells": [
  {
   "cell_type": "code",
   "execution_count": 1,
   "metadata": {},
   "outputs": [],
   "source": [
    "import os\n",
    "from astropy.table import Table"
   ]
  },
  {
   "cell_type": "code",
   "execution_count": 2,
   "metadata": {},
   "outputs": [],
   "source": [
    "data = Table.read(\"north_clusters.fits\")"
   ]
  },
  {
   "cell_type": "code",
   "execution_count": 3,
   "metadata": {},
   "outputs": [],
   "source": [
    "north_count = len(data)"
   ]
  },
  {
   "cell_type": "code",
   "execution_count": 10,
   "metadata": {},
   "outputs": [
    {
     "data": {
      "text/plain": [
       "110862"
      ]
     },
     "execution_count": 10,
     "metadata": {},
     "output_type": "execute_result"
    }
   ],
   "source": [
    "north_count"
   ]
  },
  {
   "cell_type": "code",
   "execution_count": 4,
   "metadata": {},
   "outputs": [],
   "source": [
    "data = Table.read(\"south_clusters.fits\")"
   ]
  },
  {
   "cell_type": "code",
   "execution_count": 5,
   "metadata": {},
   "outputs": [],
   "source": [
    "south_count = len(data)"
   ]
  },
  {
   "cell_type": "code",
   "execution_count": 11,
   "metadata": {},
   "outputs": [
    {
     "data": {
      "text/plain": [
       "286525"
      ]
     },
     "execution_count": 11,
     "metadata": {},
     "output_type": "execute_result"
    }
   ],
   "source": [
    "south_count"
   ]
  },
  {
   "cell_type": "code",
   "execution_count": 6,
   "metadata": {},
   "outputs": [
    {
     "data": {
      "text/plain": [
       "397387"
      ]
     },
     "execution_count": 6,
     "metadata": {},
     "output_type": "execute_result"
    }
   ],
   "source": [
    "north_count+south_count"
   ]
  },
  {
   "cell_type": "code",
   "execution_count": 14,
   "metadata": {},
   "outputs": [
    {
     "data": {
      "text/html": [
       "&lt;Table length=286525&gt;\n",
       "<table id=\"table46913210068552\" class=\"table-striped table-bordered table-condensed\">\n",
       "<thead><tr><th>RA_central</th><th>DEC_central</th></tr></thead>\n",
       "<thead><tr><th>float64</th><th>float64</th></tr></thead>\n",
       "<tr><td>79.24160887630994</td><td>-22.617346773474875</td></tr>\n",
       "<tr><td>75.27488431859392</td><td>-24.416370464311196</td></tr>\n",
       "<tr><td>73.84885673734733</td><td>-20.571104599661048</td></tr>\n",
       "<tr><td>74.98919871352913</td><td>-24.699784252994462</td></tr>\n",
       "<tr><td>71.33498775972835</td><td>-22.078714119013167</td></tr>\n",
       "<tr><td>75.45259167777516</td><td>-22.889788461178227</td></tr>\n",
       "<tr><td>79.97265628844043</td><td>-20.968978454008653</td></tr>\n",
       "<tr><td>75.34045790507639</td><td>-20.430211840628804</td></tr>\n",
       "<tr><td>73.54348101729099</td><td>-22.461954527716824</td></tr>\n",
       "<tr><td>72.13346083703789</td><td>-20.56286447115461</td></tr>\n",
       "<tr><td>...</td><td>...</td></tr>\n",
       "<tr><td>225.29748746119017</td><td>-6.672338066728004</td></tr>\n",
       "<tr><td>226.58492777754935</td><td>-6.6605524606812265</td></tr>\n",
       "<tr><td>225.774620632264</td><td>-5.211633856813307</td></tr>\n",
       "<tr><td>225.16267163135004</td><td>-6.6875736602933</td></tr>\n",
       "<tr><td>224.28640990356735</td><td>-7.114254744209339</td></tr>\n",
       "<tr><td>226.1600244649171</td><td>-6.295049631079851</td></tr>\n",
       "<tr><td>224.69467506200965</td><td>-5.868756087766682</td></tr>\n",
       "<tr><td>227.29883031018346</td><td>-6.640361203224707</td></tr>\n",
       "<tr><td>222.88763617842443</td><td>-6.280112731957761</td></tr>\n",
       "<tr><td>224.11803982878538</td><td>-7.521751751892088</td></tr>\n",
       "</table>"
      ],
      "text/plain": [
       "<Table length=286525>\n",
       "    RA_central         DEC_central    \n",
       "     float64             float64      \n",
       "------------------ -------------------\n",
       " 79.24160887630994 -22.617346773474875\n",
       " 75.27488431859392 -24.416370464311196\n",
       " 73.84885673734733 -20.571104599661048\n",
       " 74.98919871352913 -24.699784252994462\n",
       " 71.33498775972835 -22.078714119013167\n",
       " 75.45259167777516 -22.889788461178227\n",
       " 79.97265628844043 -20.968978454008653\n",
       " 75.34045790507639 -20.430211840628804\n",
       " 73.54348101729099 -22.461954527716824\n",
       " 72.13346083703789  -20.56286447115461\n",
       "               ...                 ...\n",
       "225.29748746119017  -6.672338066728004\n",
       "226.58492777754935 -6.6605524606812265\n",
       "  225.774620632264  -5.211633856813307\n",
       "225.16267163135004    -6.6875736602933\n",
       "224.28640990356735  -7.114254744209339\n",
       " 226.1600244649171  -6.295049631079851\n",
       "224.69467506200965  -5.868756087766682\n",
       "227.29883031018346  -6.640361203224707\n",
       "222.88763617842443  -6.280112731957761\n",
       "224.11803982878538  -7.521751751892088"
      ]
     },
     "execution_count": 14,
     "metadata": {},
     "output_type": "execute_result"
    }
   ],
   "source": [
    "data[\"RA_central\", \"DEC_central\"]"
   ]
  },
  {
   "cell_type": "code",
   "execution_count": null,
   "metadata": {},
   "outputs": [],
   "source": [
    "total_north = 0\n",
    "for root, dirs, files in os.walk(\"/global/cscratch1/sd/mjyb16/DR9/results_north\", topdown=False):\n",
    "    for name in files:\n",
    "        data = Table.read(f\"/global/cscratch1/sd/mjyb16/DR9/results_north/{name}\", format = \"fits\")\n",
    "        total_north += len(data)"
   ]
  },
  {
   "cell_type": "code",
   "execution_count": null,
   "metadata": {},
   "outputs": [],
   "source": [
    "total_south = 0\n",
    "for root, dirs, files in os.walk(\"/global/cscratch1/sd/mjyb16/DR9/results_north\", topdown=False):\n",
    "    for name in files:\n",
    "        data = Table.read(f\"/global/cscratch1/sd/mjyb16/DR9/results_north/{name}\", format = \"fits\")\n",
    "        total_south += len(data)"
   ]
  },
  {
   "cell_type": "code",
   "execution_count": null,
   "metadata": {},
   "outputs": [],
   "source": [
    "total_north + total_south"
   ]
  }
 ],
 "metadata": {
  "kernelspec": {
   "display_name": "desi_clusters",
   "language": "python",
   "name": "desi_clusters"
  },
  "language_info": {
   "codemirror_mode": {
    "name": "ipython",
    "version": 3
   },
   "file_extension": ".py",
   "mimetype": "text/x-python",
   "name": "python",
   "nbconvert_exporter": "python",
   "pygments_lexer": "ipython3",
   "version": "3.8.8"
  }
 },
 "nbformat": 4,
 "nbformat_minor": 4
}
