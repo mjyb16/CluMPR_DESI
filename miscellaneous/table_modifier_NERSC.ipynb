{
 "cells": [
  {
   "cell_type": "code",
   "execution_count": 1,
   "metadata": {},
   "outputs": [],
   "source": [
    "import pandas as pd"
   ]
  },
  {
   "cell_type": "code",
   "execution_count": 2,
   "metadata": {},
   "outputs": [],
   "source": [
    "table = pd.read_csv(\"/pscratch/sd/m/mjyb16/table_of_centers_dr9_best.csv\")"
   ]
  },
  {
   "cell_type": "code",
   "execution_count": 3,
   "metadata": {},
   "outputs": [
    {
     "data": {
      "text/html": [
       "<div>\n",
       "<style scoped>\n",
       "    .dataframe tbody tr th:only-of-type {\n",
       "        vertical-align: middle;\n",
       "    }\n",
       "\n",
       "    .dataframe tbody tr th {\n",
       "        vertical-align: top;\n",
       "    }\n",
       "\n",
       "    .dataframe thead th {\n",
       "        text-align: right;\n",
       "    }\n",
       "</style>\n",
       "<table border=\"1\" class=\"dataframe\">\n",
       "  <thead>\n",
       "    <tr style=\"text-align: right;\">\n",
       "      <th></th>\n",
       "      <th>Unnamed: 0</th>\n",
       "      <th>patch</th>\n",
       "      <th>mean_RA</th>\n",
       "      <th>mean_DEC</th>\n",
       "      <th>photoz</th>\n",
       "      <th>masses</th>\n",
       "    </tr>\n",
       "  </thead>\n",
       "  <tbody>\n",
       "    <tr>\n",
       "      <th>0</th>\n",
       "      <td>0</td>\n",
       "      <td>/global/cscratch1/sd/mjyb16/DR9/south/sweep/sw...</td>\n",
       "      <td>75.005021</td>\n",
       "      <td>-22.473187</td>\n",
       "      <td>/global/cscratch1/sd/mjyb16/DR9/south/photo-z/...</td>\n",
       "      <td>/global/cscratch1/sd/mjyb16/DR9/south/stellar_...</td>\n",
       "    </tr>\n",
       "    <tr>\n",
       "      <th>1</th>\n",
       "      <td>1</td>\n",
       "      <td>/global/cscratch1/sd/mjyb16/DR9/south/sweep/sw...</td>\n",
       "      <td>354.902942</td>\n",
       "      <td>27.441013</td>\n",
       "      <td>/global/cscratch1/sd/mjyb16/DR9/south/photo-z/...</td>\n",
       "      <td>/global/cscratch1/sd/mjyb16/DR9/south/stellar_...</td>\n",
       "    </tr>\n",
       "    <tr>\n",
       "      <th>2</th>\n",
       "      <td>2</td>\n",
       "      <td>/global/cscratch1/sd/mjyb16/DR9/south/sweep/sw...</td>\n",
       "      <td>25.074295</td>\n",
       "      <td>-22.479242</td>\n",
       "      <td>/global/cscratch1/sd/mjyb16/DR9/south/photo-z/...</td>\n",
       "      <td>/global/cscratch1/sd/mjyb16/DR9/south/stellar_...</td>\n",
       "    </tr>\n",
       "    <tr>\n",
       "      <th>3</th>\n",
       "      <td>3</td>\n",
       "      <td>/global/cscratch1/sd/mjyb16/DR9/south/sweep/sw...</td>\n",
       "      <td>195.206746</td>\n",
       "      <td>31.976032</td>\n",
       "      <td>/global/cscratch1/sd/mjyb16/DR9/south/photo-z/...</td>\n",
       "      <td>/global/cscratch1/sd/mjyb16/DR9/south/stellar_...</td>\n",
       "    </tr>\n",
       "    <tr>\n",
       "      <th>4</th>\n",
       "      <td>4</td>\n",
       "      <td>/global/cscratch1/sd/mjyb16/DR9/south/sweep/sw...</td>\n",
       "      <td>4.989372</td>\n",
       "      <td>-65.574100</td>\n",
       "      <td>/global/cscratch1/sd/mjyb16/DR9/south/photo-z/...</td>\n",
       "      <td>/global/cscratch1/sd/mjyb16/DR9/south/stellar_...</td>\n",
       "    </tr>\n",
       "  </tbody>\n",
       "</table>\n",
       "</div>"
      ],
      "text/plain": [
       "   Unnamed: 0                                              patch     mean_RA  \\\n",
       "0           0  /global/cscratch1/sd/mjyb16/DR9/south/sweep/sw...   75.005021   \n",
       "1           1  /global/cscratch1/sd/mjyb16/DR9/south/sweep/sw...  354.902942   \n",
       "2           2  /global/cscratch1/sd/mjyb16/DR9/south/sweep/sw...   25.074295   \n",
       "3           3  /global/cscratch1/sd/mjyb16/DR9/south/sweep/sw...  195.206746   \n",
       "4           4  /global/cscratch1/sd/mjyb16/DR9/south/sweep/sw...    4.989372   \n",
       "\n",
       "    mean_DEC                                             photoz  \\\n",
       "0 -22.473187  /global/cscratch1/sd/mjyb16/DR9/south/photo-z/...   \n",
       "1  27.441013  /global/cscratch1/sd/mjyb16/DR9/south/photo-z/...   \n",
       "2 -22.479242  /global/cscratch1/sd/mjyb16/DR9/south/photo-z/...   \n",
       "3  31.976032  /global/cscratch1/sd/mjyb16/DR9/south/photo-z/...   \n",
       "4 -65.574100  /global/cscratch1/sd/mjyb16/DR9/south/photo-z/...   \n",
       "\n",
       "                                              masses  \n",
       "0  /global/cscratch1/sd/mjyb16/DR9/south/stellar_...  \n",
       "1  /global/cscratch1/sd/mjyb16/DR9/south/stellar_...  \n",
       "2  /global/cscratch1/sd/mjyb16/DR9/south/stellar_...  \n",
       "3  /global/cscratch1/sd/mjyb16/DR9/south/stellar_...  \n",
       "4  /global/cscratch1/sd/mjyb16/DR9/south/stellar_...  "
      ]
     },
     "execution_count": 3,
     "metadata": {},
     "output_type": "execute_result"
    }
   ],
   "source": [
    "table.head()"
   ]
  },
  {
   "cell_type": "code",
   "execution_count": 7,
   "metadata": {},
   "outputs": [],
   "source": [
    "check_dr9 = pd.read_csv(\"dr9_sweeps.csv\")"
   ]
  },
  {
   "cell_type": "code",
   "execution_count": 10,
   "metadata": {},
   "outputs": [
    {
     "data": {
      "text/plain": [
       "723"
      ]
     },
     "execution_count": 10,
     "metadata": {},
     "output_type": "execute_result"
    }
   ],
   "source": [
    "len(check_dr9)"
   ]
  },
  {
   "cell_type": "code",
   "execution_count": 23,
   "metadata": {},
   "outputs": [],
   "source": [
    "import os\n",
    "check_n = pd.DataFrame(os.listdir(\"/global/project/projectdirs/cosmo/data/legacysurvey/dr9/north/sweep/9.0/\"), columns = [\"patch\"])"
   ]
  },
  {
   "cell_type": "code",
   "execution_count": 24,
   "metadata": {},
   "outputs": [],
   "source": [
    "for i in range(len(check_n)):\n",
    "    selfed = check_n.iloc[i].patch\n",
    "    check_n.iloc[i].patch = \"/global/project/projectdirs/cosmo/data/legacysurvey/dr9/north/sweep/9.0/\" + selfed"
   ]
  },
  {
   "cell_type": "code",
   "execution_count": 25,
   "metadata": {},
   "outputs": [],
   "source": [
    "check_s = pd.DataFrame(os.listdir(\"/global/project/projectdirs/cosmo/data/legacysurvey/dr9/south/sweep/9.0/\"), columns = [\"patch\"])\n",
    "for i in range(len(check_s)):\n",
    "    selfed = check_s.iloc[i].patch\n",
    "    check_s.iloc[i].patch = \"/global/project/projectdirs/cosmo/data/legacysurvey/dr9/south/sweep/9.0/\" + selfed"
   ]
  },
  {
   "cell_type": "code",
   "execution_count": 31,
   "metadata": {},
   "outputs": [
    {
     "data": {
      "text/plain": [
       "array([[445,\n",
       "        '/global/project/projectdirs/cosmo/data/legacysurvey/dr9/north/sweep/9.0/sweep-000p040-010p045.fits',\n",
       "        9.68604780356961, 41.36111605218304,\n",
       "        '/global/project/projectdirs/cosmo/data/legacysurvey/dr9/north/sweep/9.0-photo-z/sweep-000p040-010p045-pz.fits',\n",
       "        '/global/cfs/cdirs/desi/users/rongpu/ls_dr9.0_photoz/stellar_mass/north/sweep-000p040-010p045_stellar_mass.npy'],\n",
       "       [579,\n",
       "        '/global/project/projectdirs/cosmo/data/legacysurvey/dr9/north/sweep/9.0/sweep-010p040-020p045.fits',\n",
       "        11.168438990164589, 41.190716847785225,\n",
       "        '/global/project/projectdirs/cosmo/data/legacysurvey/dr9/north/sweep/9.0-photo-z/sweep-010p040-020p045-pz.fits',\n",
       "        '/global/cfs/cdirs/desi/users/rongpu/ls_dr9.0_photoz/stellar_mass/north/sweep-010p040-020p045_stellar_mass.npy'],\n",
       "       [596,\n",
       "        '/global/project/projectdirs/cosmo/data/legacysurvey/dr9/north/sweep/9.0/sweep-010p035-020p040.fits',\n",
       "        11.300428412163209, 39.88146807686749,\n",
       "        '/global/project/projectdirs/cosmo/data/legacysurvey/dr9/north/sweep/9.0-photo-z/sweep-010p035-020p040-pz.fits',\n",
       "        '/global/cfs/cdirs/desi/users/rongpu/ls_dr9.0_photoz/stellar_mass/north/sweep-010p035-020p040_stellar_mass.npy']],\n",
       "      dtype=object)"
      ]
     },
     "execution_count": 31,
     "metadata": {},
     "output_type": "execute_result"
    }
   ],
   "source": [
    "import numpy as np\n",
    "check_dr9[np.logical_and(~check_dr9.patch.isin(check_n.patch), ~check_dr9.patch.isin(check_s.patch))].values"
   ]
  },
  {
   "cell_type": "code",
   "execution_count": 29,
   "metadata": {},
   "outputs": [
    {
     "data": {
      "text/plain": [
       "array([['/global/project/projectdirs/cosmo/data/legacysurvey/dr9/north/sweep/9.0/legacysurvey_dr9_north_sweep_9.0.sha256sum']],\n",
       "      dtype=object)"
      ]
     },
     "execution_count": 29,
     "metadata": {},
     "output_type": "execute_result"
    }
   ],
   "source": [
    "check_n[~check_n.patch.isin(check_dr9.patch)].values"
   ]
  },
  {
   "cell_type": "code",
   "execution_count": 30,
   "metadata": {},
   "outputs": [
    {
     "data": {
      "text/plain": [
       "array([['/global/project/projectdirs/cosmo/data/legacysurvey/dr9/south/sweep/9.0/sweep-210m020-220m015.fits'],\n",
       "       ['/global/project/projectdirs/cosmo/data/legacysurvey/dr9/south/sweep/9.0/sweep-160m025-170m020.fits'],\n",
       "       ['/global/project/projectdirs/cosmo/data/legacysurvey/dr9/south/sweep/9.0/sweep-150m025-160m020.fits'],\n",
       "       ['/global/project/projectdirs/cosmo/data/legacysurvey/dr9/south/sweep/9.0/sweep-140m030-150m025.fits'],\n",
       "       ['/global/project/projectdirs/cosmo/data/legacysurvey/dr9/south/sweep/9.0/sweep-140m015-150m010.fits'],\n",
       "       ['/global/project/projectdirs/cosmo/data/legacysurvey/dr9/south/sweep/9.0/sweep-130m015-140m010.fits'],\n",
       "       ['/global/project/projectdirs/cosmo/data/legacysurvey/dr9/south/sweep/9.0/sweep-150m035-160m030.fits'],\n",
       "       ['/global/project/projectdirs/cosmo/data/legacysurvey/dr9/south/sweep/9.0/sweep-150m030-160m025.fits'],\n",
       "       ['/global/project/projectdirs/cosmo/data/legacysurvey/dr9/south/sweep/9.0/sweep-160m035-170m030.fits'],\n",
       "       ['/global/project/projectdirs/cosmo/data/legacysurvey/dr9/south/sweep/9.0/sweep-140m025-150m020.fits'],\n",
       "       ['/global/project/projectdirs/cosmo/data/legacysurvey/dr9/south/sweep/9.0/sweep-170m030-180m025.fits'],\n",
       "       ['/global/project/projectdirs/cosmo/data/legacysurvey/dr9/south/sweep/9.0/sweep-160m030-170m025.fits'],\n",
       "       ['/global/project/projectdirs/cosmo/data/legacysurvey/dr9/south/sweep/9.0/sweep-140m020-150m015.fits'],\n",
       "       ['/global/project/projectdirs/cosmo/data/legacysurvey/dr9/south/sweep/9.0/sweep-290m065-300m060.fits'],\n",
       "       ['/global/project/projectdirs/cosmo/data/legacysurvey/dr9/south/sweep/9.0/sweep-220m020-230m015.fits'],\n",
       "       ['/global/project/projectdirs/cosmo/data/legacysurvey/dr9/south/sweep/9.0/sweep-130m020-140m015.fits'],\n",
       "       ['/global/project/projectdirs/cosmo/data/legacysurvey/dr9/south/sweep/9.0/legacysurvey_dr9_south_sweep_9.0.sha256sum'],\n",
       "       ['/global/project/projectdirs/cosmo/data/legacysurvey/dr9/south/sweep/9.0/sweep-150m020-160m015.fits'],\n",
       "       ['/global/project/projectdirs/cosmo/data/legacysurvey/dr9/south/sweep/9.0/sweep-170m035-180m030.fits']],\n",
       "      dtype=object)"
      ]
     },
     "execution_count": 30,
     "metadata": {},
     "output_type": "execute_result"
    }
   ],
   "source": [
    "check_s[~check_s.patch.isin(check_dr9.patch)].values"
   ]
  },
  {
   "cell_type": "code",
   "execution_count": 7,
   "metadata": {},
   "outputs": [],
   "source": [
    "table.at[0, \"patch\"] = \"/\" + table.iloc[0].patch"
   ]
  },
  {
   "cell_type": "code",
   "execution_count": 9,
   "metadata": {},
   "outputs": [],
   "source": [
    "table.at[0, \"photoz\"] = \"/\" + table.iloc[0].photoz"
   ]
  },
  {
   "cell_type": "code",
   "execution_count": 11,
   "metadata": {},
   "outputs": [],
   "source": [
    "table.at[0, \"masses\"] = \"/\" + table.iloc[0].masses"
   ]
  },
  {
   "cell_type": "code",
   "execution_count": 12,
   "metadata": {},
   "outputs": [
    {
     "data": {
      "text/html": [
       "<div>\n",
       "<style scoped>\n",
       "    .dataframe tbody tr th:only-of-type {\n",
       "        vertical-align: middle;\n",
       "    }\n",
       "\n",
       "    .dataframe tbody tr th {\n",
       "        vertical-align: top;\n",
       "    }\n",
       "\n",
       "    .dataframe thead th {\n",
       "        text-align: right;\n",
       "    }\n",
       "</style>\n",
       "<table border=\"1\" class=\"dataframe\">\n",
       "  <thead>\n",
       "    <tr style=\"text-align: right;\">\n",
       "      <th></th>\n",
       "      <th>Unnamed: 0</th>\n",
       "      <th>patch</th>\n",
       "      <th>mean_RA</th>\n",
       "      <th>mean_DEC</th>\n",
       "      <th>photoz</th>\n",
       "      <th>masses</th>\n",
       "    </tr>\n",
       "  </thead>\n",
       "  <tbody>\n",
       "    <tr>\n",
       "      <th>0</th>\n",
       "      <td>0</td>\n",
       "      <td>/global/cscratch1/sd/mjyb16/DR9/south/sweep/sw...</td>\n",
       "      <td>5.027669</td>\n",
       "      <td>-2.508936</td>\n",
       "      <td>/global/cscratch1/sd/mjyb16/DR9/south/photo-z/...</td>\n",
       "      <td>/global/cscratch1/sd/mjyb16/DR9/south/stellar_...</td>\n",
       "    </tr>\n",
       "    <tr>\n",
       "      <th>1</th>\n",
       "      <td>0</td>\n",
       "      <td>/global/cscratch1/sd/mjyb16/DR9/south/sweep/sw...</td>\n",
       "      <td>195.206692</td>\n",
       "      <td>31.979525</td>\n",
       "      <td>/global/cscratch1/sd/mjyb16/DR9/south/photo-z/...</td>\n",
       "      <td>/global/cscratch1/sd/mjyb16/DR9/south/stellar_...</td>\n",
       "    </tr>\n",
       "    <tr>\n",
       "      <th>2</th>\n",
       "      <td>1</td>\n",
       "      <td>/global/cscratch1/sd/mjyb16/DR9/south/sweep/sw...</td>\n",
       "      <td>175.036076</td>\n",
       "      <td>27.486449</td>\n",
       "      <td>/global/cscratch1/sd/mjyb16/DR9/south/photo-z/...</td>\n",
       "      <td>/global/cscratch1/sd/mjyb16/DR9/south/stellar_...</td>\n",
       "    </tr>\n",
       "    <tr>\n",
       "      <th>3</th>\n",
       "      <td>2</td>\n",
       "      <td>/global/cscratch1/sd/mjyb16/DR9/south/sweep/sw...</td>\n",
       "      <td>184.901037</td>\n",
       "      <td>32.099699</td>\n",
       "      <td>/global/cscratch1/sd/mjyb16/DR9/south/photo-z/...</td>\n",
       "      <td>/global/cscratch1/sd/mjyb16/DR9/south/stellar_...</td>\n",
       "    </tr>\n",
       "    <tr>\n",
       "      <th>4</th>\n",
       "      <td>3</td>\n",
       "      <td>/global/cscratch1/sd/mjyb16/DR9/south/sweep/sw...</td>\n",
       "      <td>184.882132</td>\n",
       "      <td>27.488065</td>\n",
       "      <td>/global/cscratch1/sd/mjyb16/DR9/south/photo-z/...</td>\n",
       "      <td>/global/cscratch1/sd/mjyb16/DR9/south/stellar_...</td>\n",
       "    </tr>\n",
       "  </tbody>\n",
       "</table>\n",
       "</div>"
      ],
      "text/plain": [
       "   Unnamed: 0                                              patch     mean_RA  \\\n",
       "0           0  /global/cscratch1/sd/mjyb16/DR9/south/sweep/sw...    5.027669   \n",
       "1           0  /global/cscratch1/sd/mjyb16/DR9/south/sweep/sw...  195.206692   \n",
       "2           1  /global/cscratch1/sd/mjyb16/DR9/south/sweep/sw...  175.036076   \n",
       "3           2  /global/cscratch1/sd/mjyb16/DR9/south/sweep/sw...  184.901037   \n",
       "4           3  /global/cscratch1/sd/mjyb16/DR9/south/sweep/sw...  184.882132   \n",
       "\n",
       "    mean_DEC                                             photoz  \\\n",
       "0  -2.508936  /global/cscratch1/sd/mjyb16/DR9/south/photo-z/...   \n",
       "1  31.979525  /global/cscratch1/sd/mjyb16/DR9/south/photo-z/...   \n",
       "2  27.486449  /global/cscratch1/sd/mjyb16/DR9/south/photo-z/...   \n",
       "3  32.099699  /global/cscratch1/sd/mjyb16/DR9/south/photo-z/...   \n",
       "4  27.488065  /global/cscratch1/sd/mjyb16/DR9/south/photo-z/...   \n",
       "\n",
       "                                              masses  \n",
       "0  /global/cscratch1/sd/mjyb16/DR9/south/stellar_...  \n",
       "1  /global/cscratch1/sd/mjyb16/DR9/south/stellar_...  \n",
       "2  /global/cscratch1/sd/mjyb16/DR9/south/stellar_...  \n",
       "3  /global/cscratch1/sd/mjyb16/DR9/south/stellar_...  \n",
       "4  /global/cscratch1/sd/mjyb16/DR9/south/stellar_...  "
      ]
     },
     "execution_count": 12,
     "metadata": {},
     "output_type": "execute_result"
    }
   ],
   "source": [
    "table.head()"
   ]
  },
  {
   "cell_type": "code",
   "execution_count": 4,
   "metadata": {},
   "outputs": [
    {
     "data": {
      "text/plain": [
       "'/global/cscratch1/sd/mjyb16/DR9/south/sweep/'"
      ]
     },
     "execution_count": 4,
     "metadata": {},
     "output_type": "execute_result"
    }
   ],
   "source": [
    "table.iloc[0].patch[0:44]"
   ]
  },
  {
   "cell_type": "code",
   "execution_count": 5,
   "metadata": {},
   "outputs": [
    {
     "data": {
      "text/plain": [
       "'sweep-070m025-080m020.fits'"
      ]
     },
     "execution_count": 5,
     "metadata": {},
     "output_type": "execute_result"
    }
   ],
   "source": [
    "table.iloc[0].patch[44:]"
   ]
  },
  {
   "cell_type": "code",
   "execution_count": 7,
   "metadata": {},
   "outputs": [
    {
     "data": {
      "text/plain": [
       "'sweep-070m025-080m020-pz.fits'"
      ]
     },
     "execution_count": 7,
     "metadata": {},
     "output_type": "execute_result"
    }
   ],
   "source": [
    "table.iloc[0].photoz[46:]"
   ]
  },
  {
   "cell_type": "code",
   "execution_count": 6,
   "metadata": {},
   "outputs": [
    {
     "data": {
      "text/plain": [
       "'sweep-070m025-080m020_stellar_mass.npy'"
      ]
     },
     "execution_count": 6,
     "metadata": {},
     "output_type": "execute_result"
    }
   ],
   "source": [
    "table.iloc[0].masses[51:]"
   ]
  },
  {
   "cell_type": "code",
   "execution_count": 21,
   "metadata": {},
   "outputs": [
    {
     "data": {
      "text/plain": [
       "'/global/cscratch1/sd/mjyb16/DR9/south/'"
      ]
     },
     "execution_count": 21,
     "metadata": {},
     "output_type": "execute_result"
    }
   ],
   "source": [
    "table.iloc[0].patch[0:38]"
   ]
  },
  {
   "cell_type": "code",
   "execution_count": 7,
   "metadata": {},
   "outputs": [
    {
     "data": {
      "text/plain": [
       "'/data/mjb299/pz'"
      ]
     },
     "execution_count": 7,
     "metadata": {},
     "output_type": "execute_result"
    }
   ],
   "source": [
    "table.iloc[0].masses[0:15]"
   ]
  },
  {
   "cell_type": "code",
   "execution_count": 8,
   "metadata": {},
   "outputs": [
    {
     "data": {
      "text/plain": [
       "'/global/cscratch1/sd/mjyb16/DR9/north/sweep/'"
      ]
     },
     "execution_count": 8,
     "metadata": {},
     "output_type": "execute_result"
    }
   ],
   "source": [
    "table.iloc[500].patch[:44]"
   ]
  },
  {
   "cell_type": "code",
   "execution_count": 10,
   "metadata": {},
   "outputs": [],
   "source": [
    "table2 = table.copy()"
   ]
  },
  {
   "cell_type": "code",
   "execution_count": 8,
   "metadata": {
    "jupyter": {
     "source_hidden": true
    },
    "tags": []
   },
   "outputs": [],
   "source": [
    "for i in range(len(table)):\n",
    "    if table.iloc[i].patch[0:71] == '/global/project/projectdirs/cosmo/data/legacysurvey/dr8/south/sweep/8.0':\n",
    "        table2.at[i, \"patch\"] = '/global/project/projectdirs/cosmo/data/legacysurvey/dr9/south/sweep/9.0' + table.iloc[i].patch[71:]\n",
    "        table2.at[i, \"photoz\"] = '/global/project/projectdirs/cosmo/data/legacysurvey/dr9/south/sweep/9.0-photo-z' + table.iloc[i].photoz[79:]\n",
    "        table2.at[i, \"masses\"] = '/global/cfs/cdirs/desi/users/rongpu/ls_dr9.0_photoz/stellar_mass/south' + table.iloc[i].masses[63:]\n",
    "    else:\n",
    "        table2.at[i, \"patch\"] = '/global/project/projectdirs/cosmo/data/legacysurvey/dr9/north/sweep/9.0' + table.iloc[i].patch[71:]\n",
    "        table2.at[i, \"photoz\"] = '/global/project/projectdirs/cosmo/data/legacysurvey/dr9/north/sweep/9.0-photo-z' + table.iloc[i].photoz[79:]\n",
    "        table2.at[i, \"masses\"] = '/global/cfs/cdirs/desi/users/rongpu/ls_dr9.0_photoz/stellar_mass/north' + table.iloc[i].masses[63:]"
   ]
  },
  {
   "cell_type": "code",
   "execution_count": 10,
   "metadata": {
    "jupyter": {
     "source_hidden": true
    },
    "tags": []
   },
   "outputs": [],
   "source": [
    "#For dara\n",
    "for i in range(len(table)):\n",
    "    if table.iloc[i].patch[0:19] == '/data/mjb299/sweep/':\n",
    "        table2.at[i, \"patch\"] = '/global/cscratch1/sd/mjyb16/DR9/south/sweep' + table.iloc[i].patch[18:]\n",
    "        table2.at[i, \"photoz\"] = '/global/cscratch1/sd/mjyb16/DR9/south/photo-z' + table.iloc[i].photoz[15:]\n",
    "        table2.at[i, \"masses\"] = '/global/cscratch1/sd/mjyb16/DR9/south/stellar_mass' + table.iloc[i].masses[15:]\n",
    "    else:\n",
    "        table2.at[i, \"patch\"] = '/global/cscratch1/sd/mjyb16/DR9/north/sweep' + table.iloc[i].patch[18:]\n",
    "        table2.at[i, \"photoz\"] = '/global/cscratch1/sd/mjyb16/DR9/north/photo-z' + table.iloc[i].photoz[15:]\n",
    "        table2.at[i, \"masses\"] = '/global/cscratch1/sd/mjyb16/DR9/north/stellar_mass' + table.iloc[i].masses[15:]"
   ]
  },
  {
   "cell_type": "code",
   "execution_count": 11,
   "metadata": {},
   "outputs": [],
   "source": [
    "for i in range(len(table)):\n",
    "    if table.iloc[i].patch[0:38] == '/global/cscratch1/sd/mjyb16/DR9/south/':\n",
    "        table2.at[i, \"patch\"] = '/pscratch/sd/m/mjyb16/DR9/south/sweep/' + table.iloc[i].patch[44:]\n",
    "        table2.at[i, \"photoz\"] = '/pscratch/sd/m/mjyb16/DR9/south/photo-z/' + table.iloc[i].photoz[46:]\n",
    "        table2.at[i, \"masses\"] = '/pscratch/sd/m/mjyb16/DR9/south/stellar_mass/' + table.iloc[i].masses[51:]\n",
    "    if table.iloc[i].patch[0:38] == '/global/cscratch1/sd/mjyb16/DR9/north/':\n",
    "        table2.at[i, \"patch\"] = '/pscratch/sd/m/mjyb16/DR9/north/sweep/' + table.iloc[i].patch[44:]\n",
    "        table2.at[i, \"photoz\"] = '/pscratch/sd/m/mjyb16/DR9/north/photo-z/' + table.iloc[i].photoz[46:]\n",
    "        table2.at[i, \"masses\"] = '/pscratch/sd/m/mjyb16/DR9/north/stellar_mass/' + table.iloc[i].masses[51:]"
   ]
  },
  {
   "cell_type": "code",
   "execution_count": 12,
   "metadata": {},
   "outputs": [
    {
     "data": {
      "text/html": [
       "<div>\n",
       "<style scoped>\n",
       "    .dataframe tbody tr th:only-of-type {\n",
       "        vertical-align: middle;\n",
       "    }\n",
       "\n",
       "    .dataframe tbody tr th {\n",
       "        vertical-align: top;\n",
       "    }\n",
       "\n",
       "    .dataframe thead th {\n",
       "        text-align: right;\n",
       "    }\n",
       "</style>\n",
       "<table border=\"1\" class=\"dataframe\">\n",
       "  <thead>\n",
       "    <tr style=\"text-align: right;\">\n",
       "      <th></th>\n",
       "      <th>Unnamed: 0</th>\n",
       "      <th>patch</th>\n",
       "      <th>mean_RA</th>\n",
       "      <th>mean_DEC</th>\n",
       "      <th>photoz</th>\n",
       "      <th>masses</th>\n",
       "    </tr>\n",
       "  </thead>\n",
       "  <tbody>\n",
       "    <tr>\n",
       "      <th>0</th>\n",
       "      <td>0</td>\n",
       "      <td>/pscratch/sd/m/mjyb16/DR9/south/sweep/sweep-07...</td>\n",
       "      <td>75.005021</td>\n",
       "      <td>-22.473187</td>\n",
       "      <td>/pscratch/sd/m/mjyb16/DR9/south/photo-z/sweep-...</td>\n",
       "      <td>/pscratch/sd/m/mjyb16/DR9/south/stellar_mass/s...</td>\n",
       "    </tr>\n",
       "    <tr>\n",
       "      <th>1</th>\n",
       "      <td>1</td>\n",
       "      <td>/pscratch/sd/m/mjyb16/DR9/south/sweep/sweep-35...</td>\n",
       "      <td>354.902942</td>\n",
       "      <td>27.441013</td>\n",
       "      <td>/pscratch/sd/m/mjyb16/DR9/south/photo-z/sweep-...</td>\n",
       "      <td>/pscratch/sd/m/mjyb16/DR9/south/stellar_mass/s...</td>\n",
       "    </tr>\n",
       "    <tr>\n",
       "      <th>2</th>\n",
       "      <td>2</td>\n",
       "      <td>/pscratch/sd/m/mjyb16/DR9/south/sweep/sweep-02...</td>\n",
       "      <td>25.074295</td>\n",
       "      <td>-22.479242</td>\n",
       "      <td>/pscratch/sd/m/mjyb16/DR9/south/photo-z/sweep-...</td>\n",
       "      <td>/pscratch/sd/m/mjyb16/DR9/south/stellar_mass/s...</td>\n",
       "    </tr>\n",
       "    <tr>\n",
       "      <th>3</th>\n",
       "      <td>3</td>\n",
       "      <td>/pscratch/sd/m/mjyb16/DR9/south/sweep/sweep-19...</td>\n",
       "      <td>195.206746</td>\n",
       "      <td>31.976032</td>\n",
       "      <td>/pscratch/sd/m/mjyb16/DR9/south/photo-z/sweep-...</td>\n",
       "      <td>/pscratch/sd/m/mjyb16/DR9/south/stellar_mass/s...</td>\n",
       "    </tr>\n",
       "    <tr>\n",
       "      <th>4</th>\n",
       "      <td>4</td>\n",
       "      <td>/pscratch/sd/m/mjyb16/DR9/south/sweep/sweep-00...</td>\n",
       "      <td>4.989372</td>\n",
       "      <td>-65.574100</td>\n",
       "      <td>/pscratch/sd/m/mjyb16/DR9/south/photo-z/sweep-...</td>\n",
       "      <td>/pscratch/sd/m/mjyb16/DR9/south/stellar_mass/s...</td>\n",
       "    </tr>\n",
       "    <tr>\n",
       "      <th>5</th>\n",
       "      <td>5</td>\n",
       "      <td>/pscratch/sd/m/mjyb16/DR9/south/sweep/sweep-10...</td>\n",
       "      <td>109.108374</td>\n",
       "      <td>18.915149</td>\n",
       "      <td>/pscratch/sd/m/mjyb16/DR9/south/photo-z/sweep-...</td>\n",
       "      <td>/pscratch/sd/m/mjyb16/DR9/south/stellar_mass/s...</td>\n",
       "    </tr>\n",
       "    <tr>\n",
       "      <th>6</th>\n",
       "      <td>6</td>\n",
       "      <td>/pscratch/sd/m/mjyb16/DR9/south/sweep/sweep-22...</td>\n",
       "      <td>221.332328</td>\n",
       "      <td>-15.138377</td>\n",
       "      <td>/pscratch/sd/m/mjyb16/DR9/south/photo-z/sweep-...</td>\n",
       "      <td>/pscratch/sd/m/mjyb16/DR9/south/stellar_mass/s...</td>\n",
       "    </tr>\n",
       "    <tr>\n",
       "      <th>7</th>\n",
       "      <td>7</td>\n",
       "      <td>/pscratch/sd/m/mjyb16/DR9/south/sweep/sweep-34...</td>\n",
       "      <td>345.053397</td>\n",
       "      <td>-47.472584</td>\n",
       "      <td>/pscratch/sd/m/mjyb16/DR9/south/photo-z/sweep-...</td>\n",
       "      <td>/pscratch/sd/m/mjyb16/DR9/south/stellar_mass/s...</td>\n",
       "    </tr>\n",
       "    <tr>\n",
       "      <th>8</th>\n",
       "      <td>8</td>\n",
       "      <td>/pscratch/sd/m/mjyb16/DR9/south/sweep/sweep-13...</td>\n",
       "      <td>134.828350</td>\n",
       "      <td>22.520407</td>\n",
       "      <td>/pscratch/sd/m/mjyb16/DR9/south/photo-z/sweep-...</td>\n",
       "      <td>/pscratch/sd/m/mjyb16/DR9/south/stellar_mass/s...</td>\n",
       "    </tr>\n",
       "    <tr>\n",
       "      <th>9</th>\n",
       "      <td>9</td>\n",
       "      <td>/pscratch/sd/m/mjyb16/DR9/south/sweep/sweep-01...</td>\n",
       "      <td>15.033585</td>\n",
       "      <td>-22.481445</td>\n",
       "      <td>/pscratch/sd/m/mjyb16/DR9/south/photo-z/sweep-...</td>\n",
       "      <td>/pscratch/sd/m/mjyb16/DR9/south/stellar_mass/s...</td>\n",
       "    </tr>\n",
       "    <tr>\n",
       "      <th>10</th>\n",
       "      <td>10</td>\n",
       "      <td>/pscratch/sd/m/mjyb16/DR9/south/sweep/sweep-00...</td>\n",
       "      <td>5.014437</td>\n",
       "      <td>2.375749</td>\n",
       "      <td>/pscratch/sd/m/mjyb16/DR9/south/photo-z/sweep-...</td>\n",
       "      <td>/pscratch/sd/m/mjyb16/DR9/south/stellar_mass/s...</td>\n",
       "    </tr>\n",
       "    <tr>\n",
       "      <th>11</th>\n",
       "      <td>11</td>\n",
       "      <td>/pscratch/sd/m/mjyb16/DR9/south/sweep/sweep-04...</td>\n",
       "      <td>41.230793</td>\n",
       "      <td>21.305999</td>\n",
       "      <td>/pscratch/sd/m/mjyb16/DR9/south/photo-z/sweep-...</td>\n",
       "      <td>/pscratch/sd/m/mjyb16/DR9/south/stellar_mass/s...</td>\n",
       "    </tr>\n",
       "    <tr>\n",
       "      <th>12</th>\n",
       "      <td>12</td>\n",
       "      <td>/pscratch/sd/m/mjyb16/DR9/south/sweep/sweep-04...</td>\n",
       "      <td>45.044034</td>\n",
       "      <td>-37.509730</td>\n",
       "      <td>/pscratch/sd/m/mjyb16/DR9/south/photo-z/sweep-...</td>\n",
       "      <td>/pscratch/sd/m/mjyb16/DR9/south/stellar_mass/s...</td>\n",
       "    </tr>\n",
       "    <tr>\n",
       "      <th>13</th>\n",
       "      <td>13</td>\n",
       "      <td>/pscratch/sd/m/mjyb16/DR9/south/sweep/sweep-31...</td>\n",
       "      <td>314.853669</td>\n",
       "      <td>-38.905471</td>\n",
       "      <td>/pscratch/sd/m/mjyb16/DR9/south/photo-z/sweep-...</td>\n",
       "      <td>/pscratch/sd/m/mjyb16/DR9/south/stellar_mass/s...</td>\n",
       "    </tr>\n",
       "    <tr>\n",
       "      <th>14</th>\n",
       "      <td>14</td>\n",
       "      <td>/pscratch/sd/m/mjyb16/DR9/south/sweep/sweep-16...</td>\n",
       "      <td>166.691951</td>\n",
       "      <td>-30.317746</td>\n",
       "      <td>/pscratch/sd/m/mjyb16/DR9/south/photo-z/sweep-...</td>\n",
       "      <td>/pscratch/sd/m/mjyb16/DR9/south/stellar_mass/s...</td>\n",
       "    </tr>\n",
       "    <tr>\n",
       "      <th>15</th>\n",
       "      <td>15</td>\n",
       "      <td>/pscratch/sd/m/mjyb16/DR9/south/sweep/sweep-32...</td>\n",
       "      <td>324.864513</td>\n",
       "      <td>2.224519</td>\n",
       "      <td>/pscratch/sd/m/mjyb16/DR9/south/photo-z/sweep-...</td>\n",
       "      <td>/pscratch/sd/m/mjyb16/DR9/south/stellar_mass/s...</td>\n",
       "    </tr>\n",
       "    <tr>\n",
       "      <th>16</th>\n",
       "      <td>16</td>\n",
       "      <td>/pscratch/sd/m/mjyb16/DR9/south/sweep/sweep-21...</td>\n",
       "      <td>217.785551</td>\n",
       "      <td>-12.074747</td>\n",
       "      <td>/pscratch/sd/m/mjyb16/DR9/south/photo-z/sweep-...</td>\n",
       "      <td>/pscratch/sd/m/mjyb16/DR9/south/stellar_mass/s...</td>\n",
       "    </tr>\n",
       "    <tr>\n",
       "      <th>17</th>\n",
       "      <td>17</td>\n",
       "      <td>/pscratch/sd/m/mjyb16/DR9/south/sweep/sweep-02...</td>\n",
       "      <td>24.970187</td>\n",
       "      <td>2.443851</td>\n",
       "      <td>/pscratch/sd/m/mjyb16/DR9/south/photo-z/sweep-...</td>\n",
       "      <td>/pscratch/sd/m/mjyb16/DR9/south/stellar_mass/s...</td>\n",
       "    </tr>\n",
       "    <tr>\n",
       "      <th>18</th>\n",
       "      <td>18</td>\n",
       "      <td>/pscratch/sd/m/mjyb16/DR9/south/sweep/sweep-26...</td>\n",
       "      <td>265.171833</td>\n",
       "      <td>17.471718</td>\n",
       "      <td>/pscratch/sd/m/mjyb16/DR9/south/photo-z/sweep-...</td>\n",
       "      <td>/pscratch/sd/m/mjyb16/DR9/south/stellar_mass/s...</td>\n",
       "    </tr>\n",
       "    <tr>\n",
       "      <th>19</th>\n",
       "      <td>19</td>\n",
       "      <td>/pscratch/sd/m/mjyb16/DR9/south/sweep/sweep-16...</td>\n",
       "      <td>164.940498</td>\n",
       "      <td>-7.400520</td>\n",
       "      <td>/pscratch/sd/m/mjyb16/DR9/south/photo-z/sweep-...</td>\n",
       "      <td>/pscratch/sd/m/mjyb16/DR9/south/stellar_mass/s...</td>\n",
       "    </tr>\n",
       "  </tbody>\n",
       "</table>\n",
       "</div>"
      ],
      "text/plain": [
       "    Unnamed: 0                                              patch     mean_RA  \\\n",
       "0            0  /pscratch/sd/m/mjyb16/DR9/south/sweep/sweep-07...   75.005021   \n",
       "1            1  /pscratch/sd/m/mjyb16/DR9/south/sweep/sweep-35...  354.902942   \n",
       "2            2  /pscratch/sd/m/mjyb16/DR9/south/sweep/sweep-02...   25.074295   \n",
       "3            3  /pscratch/sd/m/mjyb16/DR9/south/sweep/sweep-19...  195.206746   \n",
       "4            4  /pscratch/sd/m/mjyb16/DR9/south/sweep/sweep-00...    4.989372   \n",
       "5            5  /pscratch/sd/m/mjyb16/DR9/south/sweep/sweep-10...  109.108374   \n",
       "6            6  /pscratch/sd/m/mjyb16/DR9/south/sweep/sweep-22...  221.332328   \n",
       "7            7  /pscratch/sd/m/mjyb16/DR9/south/sweep/sweep-34...  345.053397   \n",
       "8            8  /pscratch/sd/m/mjyb16/DR9/south/sweep/sweep-13...  134.828350   \n",
       "9            9  /pscratch/sd/m/mjyb16/DR9/south/sweep/sweep-01...   15.033585   \n",
       "10          10  /pscratch/sd/m/mjyb16/DR9/south/sweep/sweep-00...    5.014437   \n",
       "11          11  /pscratch/sd/m/mjyb16/DR9/south/sweep/sweep-04...   41.230793   \n",
       "12          12  /pscratch/sd/m/mjyb16/DR9/south/sweep/sweep-04...   45.044034   \n",
       "13          13  /pscratch/sd/m/mjyb16/DR9/south/sweep/sweep-31...  314.853669   \n",
       "14          14  /pscratch/sd/m/mjyb16/DR9/south/sweep/sweep-16...  166.691951   \n",
       "15          15  /pscratch/sd/m/mjyb16/DR9/south/sweep/sweep-32...  324.864513   \n",
       "16          16  /pscratch/sd/m/mjyb16/DR9/south/sweep/sweep-21...  217.785551   \n",
       "17          17  /pscratch/sd/m/mjyb16/DR9/south/sweep/sweep-02...   24.970187   \n",
       "18          18  /pscratch/sd/m/mjyb16/DR9/south/sweep/sweep-26...  265.171833   \n",
       "19          19  /pscratch/sd/m/mjyb16/DR9/south/sweep/sweep-16...  164.940498   \n",
       "\n",
       "     mean_DEC                                             photoz  \\\n",
       "0  -22.473187  /pscratch/sd/m/mjyb16/DR9/south/photo-z/sweep-...   \n",
       "1   27.441013  /pscratch/sd/m/mjyb16/DR9/south/photo-z/sweep-...   \n",
       "2  -22.479242  /pscratch/sd/m/mjyb16/DR9/south/photo-z/sweep-...   \n",
       "3   31.976032  /pscratch/sd/m/mjyb16/DR9/south/photo-z/sweep-...   \n",
       "4  -65.574100  /pscratch/sd/m/mjyb16/DR9/south/photo-z/sweep-...   \n",
       "5   18.915149  /pscratch/sd/m/mjyb16/DR9/south/photo-z/sweep-...   \n",
       "6  -15.138377  /pscratch/sd/m/mjyb16/DR9/south/photo-z/sweep-...   \n",
       "7  -47.472584  /pscratch/sd/m/mjyb16/DR9/south/photo-z/sweep-...   \n",
       "8   22.520407  /pscratch/sd/m/mjyb16/DR9/south/photo-z/sweep-...   \n",
       "9  -22.481445  /pscratch/sd/m/mjyb16/DR9/south/photo-z/sweep-...   \n",
       "10   2.375749  /pscratch/sd/m/mjyb16/DR9/south/photo-z/sweep-...   \n",
       "11  21.305999  /pscratch/sd/m/mjyb16/DR9/south/photo-z/sweep-...   \n",
       "12 -37.509730  /pscratch/sd/m/mjyb16/DR9/south/photo-z/sweep-...   \n",
       "13 -38.905471  /pscratch/sd/m/mjyb16/DR9/south/photo-z/sweep-...   \n",
       "14 -30.317746  /pscratch/sd/m/mjyb16/DR9/south/photo-z/sweep-...   \n",
       "15   2.224519  /pscratch/sd/m/mjyb16/DR9/south/photo-z/sweep-...   \n",
       "16 -12.074747  /pscratch/sd/m/mjyb16/DR9/south/photo-z/sweep-...   \n",
       "17   2.443851  /pscratch/sd/m/mjyb16/DR9/south/photo-z/sweep-...   \n",
       "18  17.471718  /pscratch/sd/m/mjyb16/DR9/south/photo-z/sweep-...   \n",
       "19  -7.400520  /pscratch/sd/m/mjyb16/DR9/south/photo-z/sweep-...   \n",
       "\n",
       "                                               masses  \n",
       "0   /pscratch/sd/m/mjyb16/DR9/south/stellar_mass/s...  \n",
       "1   /pscratch/sd/m/mjyb16/DR9/south/stellar_mass/s...  \n",
       "2   /pscratch/sd/m/mjyb16/DR9/south/stellar_mass/s...  \n",
       "3   /pscratch/sd/m/mjyb16/DR9/south/stellar_mass/s...  \n",
       "4   /pscratch/sd/m/mjyb16/DR9/south/stellar_mass/s...  \n",
       "5   /pscratch/sd/m/mjyb16/DR9/south/stellar_mass/s...  \n",
       "6   /pscratch/sd/m/mjyb16/DR9/south/stellar_mass/s...  \n",
       "7   /pscratch/sd/m/mjyb16/DR9/south/stellar_mass/s...  \n",
       "8   /pscratch/sd/m/mjyb16/DR9/south/stellar_mass/s...  \n",
       "9   /pscratch/sd/m/mjyb16/DR9/south/stellar_mass/s...  \n",
       "10  /pscratch/sd/m/mjyb16/DR9/south/stellar_mass/s...  \n",
       "11  /pscratch/sd/m/mjyb16/DR9/south/stellar_mass/s...  \n",
       "12  /pscratch/sd/m/mjyb16/DR9/south/stellar_mass/s...  \n",
       "13  /pscratch/sd/m/mjyb16/DR9/south/stellar_mass/s...  \n",
       "14  /pscratch/sd/m/mjyb16/DR9/south/stellar_mass/s...  \n",
       "15  /pscratch/sd/m/mjyb16/DR9/south/stellar_mass/s...  \n",
       "16  /pscratch/sd/m/mjyb16/DR9/south/stellar_mass/s...  \n",
       "17  /pscratch/sd/m/mjyb16/DR9/south/stellar_mass/s...  \n",
       "18  /pscratch/sd/m/mjyb16/DR9/south/stellar_mass/s...  \n",
       "19  /pscratch/sd/m/mjyb16/DR9/south/stellar_mass/s...  "
      ]
     },
     "execution_count": 12,
     "metadata": {},
     "output_type": "execute_result"
    }
   ],
   "source": [
    "table2.head(20)"
   ]
  },
  {
   "cell_type": "code",
   "execution_count": 13,
   "metadata": {},
   "outputs": [
    {
     "data": {
      "text/plain": [
       "'/pscratch/sd/m/mjyb16/DR9/north/photo-z/sweep-230p025-240p030-pz.fits'"
      ]
     },
     "execution_count": 13,
     "metadata": {},
     "output_type": "execute_result"
    }
   ],
   "source": [
    "table2.photoz.iloc[500]"
   ]
  },
  {
   "cell_type": "code",
   "execution_count": 14,
   "metadata": {},
   "outputs": [],
   "source": [
    "table2 = table2[[\"patch\", \"mean_RA\", \"mean_DEC\", \"photoz\", \"masses\"]]"
   ]
  },
  {
   "cell_type": "code",
   "execution_count": 15,
   "metadata": {},
   "outputs": [
    {
     "data": {
      "text/html": [
       "<div>\n",
       "<style scoped>\n",
       "    .dataframe tbody tr th:only-of-type {\n",
       "        vertical-align: middle;\n",
       "    }\n",
       "\n",
       "    .dataframe tbody tr th {\n",
       "        vertical-align: top;\n",
       "    }\n",
       "\n",
       "    .dataframe thead th {\n",
       "        text-align: right;\n",
       "    }\n",
       "</style>\n",
       "<table border=\"1\" class=\"dataframe\">\n",
       "  <thead>\n",
       "    <tr style=\"text-align: right;\">\n",
       "      <th></th>\n",
       "      <th>patch</th>\n",
       "      <th>mean_RA</th>\n",
       "      <th>mean_DEC</th>\n",
       "      <th>photoz</th>\n",
       "      <th>masses</th>\n",
       "    </tr>\n",
       "  </thead>\n",
       "  <tbody>\n",
       "    <tr>\n",
       "      <th>0</th>\n",
       "      <td>/pscratch/sd/m/mjyb16/DR9/south/sweep/sweep-07...</td>\n",
       "      <td>75.005021</td>\n",
       "      <td>-22.473187</td>\n",
       "      <td>/pscratch/sd/m/mjyb16/DR9/south/photo-z/sweep-...</td>\n",
       "      <td>/pscratch/sd/m/mjyb16/DR9/south/stellar_mass/s...</td>\n",
       "    </tr>\n",
       "    <tr>\n",
       "      <th>1</th>\n",
       "      <td>/pscratch/sd/m/mjyb16/DR9/south/sweep/sweep-35...</td>\n",
       "      <td>354.902942</td>\n",
       "      <td>27.441013</td>\n",
       "      <td>/pscratch/sd/m/mjyb16/DR9/south/photo-z/sweep-...</td>\n",
       "      <td>/pscratch/sd/m/mjyb16/DR9/south/stellar_mass/s...</td>\n",
       "    </tr>\n",
       "    <tr>\n",
       "      <th>2</th>\n",
       "      <td>/pscratch/sd/m/mjyb16/DR9/south/sweep/sweep-02...</td>\n",
       "      <td>25.074295</td>\n",
       "      <td>-22.479242</td>\n",
       "      <td>/pscratch/sd/m/mjyb16/DR9/south/photo-z/sweep-...</td>\n",
       "      <td>/pscratch/sd/m/mjyb16/DR9/south/stellar_mass/s...</td>\n",
       "    </tr>\n",
       "    <tr>\n",
       "      <th>3</th>\n",
       "      <td>/pscratch/sd/m/mjyb16/DR9/south/sweep/sweep-19...</td>\n",
       "      <td>195.206746</td>\n",
       "      <td>31.976032</td>\n",
       "      <td>/pscratch/sd/m/mjyb16/DR9/south/photo-z/sweep-...</td>\n",
       "      <td>/pscratch/sd/m/mjyb16/DR9/south/stellar_mass/s...</td>\n",
       "    </tr>\n",
       "    <tr>\n",
       "      <th>4</th>\n",
       "      <td>/pscratch/sd/m/mjyb16/DR9/south/sweep/sweep-00...</td>\n",
       "      <td>4.989372</td>\n",
       "      <td>-65.574100</td>\n",
       "      <td>/pscratch/sd/m/mjyb16/DR9/south/photo-z/sweep-...</td>\n",
       "      <td>/pscratch/sd/m/mjyb16/DR9/south/stellar_mass/s...</td>\n",
       "    </tr>\n",
       "    <tr>\n",
       "      <th>...</th>\n",
       "      <td>...</td>\n",
       "      <td>...</td>\n",
       "      <td>...</td>\n",
       "      <td>...</td>\n",
       "      <td>...</td>\n",
       "    </tr>\n",
       "    <tr>\n",
       "      <th>733</th>\n",
       "      <td>/pscratch/sd/m/mjyb16/DR9/north/sweep/sweep-20...</td>\n",
       "      <td>205.070385</td>\n",
       "      <td>77.378400</td>\n",
       "      <td>/pscratch/sd/m/mjyb16/DR9/north/photo-z/sweep-...</td>\n",
       "      <td>/pscratch/sd/m/mjyb16/DR9/north/stellar_mass/s...</td>\n",
       "    </tr>\n",
       "    <tr>\n",
       "      <th>734</th>\n",
       "      <td>/pscratch/sd/m/mjyb16/DR9/north/sweep/sweep-09...</td>\n",
       "      <td>97.505519</td>\n",
       "      <td>70.815638</td>\n",
       "      <td>/pscratch/sd/m/mjyb16/DR9/north/photo-z/sweep-...</td>\n",
       "      <td>/pscratch/sd/m/mjyb16/DR9/north/stellar_mass/s...</td>\n",
       "    </tr>\n",
       "    <tr>\n",
       "      <th>735</th>\n",
       "      <td>/pscratch/sd/m/mjyb16/DR9/north/sweep/sweep-00...</td>\n",
       "      <td>4.963949</td>\n",
       "      <td>-0.755249</td>\n",
       "      <td>/pscratch/sd/m/mjyb16/DR9/north/photo-z/sweep-...</td>\n",
       "      <td>/pscratch/sd/m/mjyb16/DR9/north/stellar_mass/s...</td>\n",
       "    </tr>\n",
       "    <tr>\n",
       "      <th>736</th>\n",
       "      <td>/pscratch/sd/m/mjyb16/DR9/north/sweep/sweep-11...</td>\n",
       "      <td>114.860055</td>\n",
       "      <td>52.492607</td>\n",
       "      <td>/pscratch/sd/m/mjyb16/DR9/north/photo-z/sweep-...</td>\n",
       "      <td>/pscratch/sd/m/mjyb16/DR9/north/stellar_mass/s...</td>\n",
       "    </tr>\n",
       "    <tr>\n",
       "      <th>737</th>\n",
       "      <td>/pscratch/sd/m/mjyb16/DR9/north/sweep/sweep-26...</td>\n",
       "      <td>265.038050</td>\n",
       "      <td>62.432444</td>\n",
       "      <td>/pscratch/sd/m/mjyb16/DR9/north/photo-z/sweep-...</td>\n",
       "      <td>/pscratch/sd/m/mjyb16/DR9/north/stellar_mass/s...</td>\n",
       "    </tr>\n",
       "  </tbody>\n",
       "</table>\n",
       "<p>738 rows × 5 columns</p>\n",
       "</div>"
      ],
      "text/plain": [
       "                                                 patch     mean_RA   mean_DEC  \\\n",
       "0    /pscratch/sd/m/mjyb16/DR9/south/sweep/sweep-07...   75.005021 -22.473187   \n",
       "1    /pscratch/sd/m/mjyb16/DR9/south/sweep/sweep-35...  354.902942  27.441013   \n",
       "2    /pscratch/sd/m/mjyb16/DR9/south/sweep/sweep-02...   25.074295 -22.479242   \n",
       "3    /pscratch/sd/m/mjyb16/DR9/south/sweep/sweep-19...  195.206746  31.976032   \n",
       "4    /pscratch/sd/m/mjyb16/DR9/south/sweep/sweep-00...    4.989372 -65.574100   \n",
       "..                                                 ...         ...        ...   \n",
       "733  /pscratch/sd/m/mjyb16/DR9/north/sweep/sweep-20...  205.070385  77.378400   \n",
       "734  /pscratch/sd/m/mjyb16/DR9/north/sweep/sweep-09...   97.505519  70.815638   \n",
       "735  /pscratch/sd/m/mjyb16/DR9/north/sweep/sweep-00...    4.963949  -0.755249   \n",
       "736  /pscratch/sd/m/mjyb16/DR9/north/sweep/sweep-11...  114.860055  52.492607   \n",
       "737  /pscratch/sd/m/mjyb16/DR9/north/sweep/sweep-26...  265.038050  62.432444   \n",
       "\n",
       "                                                photoz  \\\n",
       "0    /pscratch/sd/m/mjyb16/DR9/south/photo-z/sweep-...   \n",
       "1    /pscratch/sd/m/mjyb16/DR9/south/photo-z/sweep-...   \n",
       "2    /pscratch/sd/m/mjyb16/DR9/south/photo-z/sweep-...   \n",
       "3    /pscratch/sd/m/mjyb16/DR9/south/photo-z/sweep-...   \n",
       "4    /pscratch/sd/m/mjyb16/DR9/south/photo-z/sweep-...   \n",
       "..                                                 ...   \n",
       "733  /pscratch/sd/m/mjyb16/DR9/north/photo-z/sweep-...   \n",
       "734  /pscratch/sd/m/mjyb16/DR9/north/photo-z/sweep-...   \n",
       "735  /pscratch/sd/m/mjyb16/DR9/north/photo-z/sweep-...   \n",
       "736  /pscratch/sd/m/mjyb16/DR9/north/photo-z/sweep-...   \n",
       "737  /pscratch/sd/m/mjyb16/DR9/north/photo-z/sweep-...   \n",
       "\n",
       "                                                masses  \n",
       "0    /pscratch/sd/m/mjyb16/DR9/south/stellar_mass/s...  \n",
       "1    /pscratch/sd/m/mjyb16/DR9/south/stellar_mass/s...  \n",
       "2    /pscratch/sd/m/mjyb16/DR9/south/stellar_mass/s...  \n",
       "3    /pscratch/sd/m/mjyb16/DR9/south/stellar_mass/s...  \n",
       "4    /pscratch/sd/m/mjyb16/DR9/south/stellar_mass/s...  \n",
       "..                                                 ...  \n",
       "733  /pscratch/sd/m/mjyb16/DR9/north/stellar_mass/s...  \n",
       "734  /pscratch/sd/m/mjyb16/DR9/north/stellar_mass/s...  \n",
       "735  /pscratch/sd/m/mjyb16/DR9/north/stellar_mass/s...  \n",
       "736  /pscratch/sd/m/mjyb16/DR9/north/stellar_mass/s...  \n",
       "737  /pscratch/sd/m/mjyb16/DR9/north/stellar_mass/s...  \n",
       "\n",
       "[738 rows x 5 columns]"
      ]
     },
     "execution_count": 15,
     "metadata": {},
     "output_type": "execute_result"
    }
   ],
   "source": [
    "table2"
   ]
  },
  {
   "cell_type": "code",
   "execution_count": 16,
   "metadata": {},
   "outputs": [],
   "source": [
    "table2.to_csv(\"dr9_files.csv\")"
   ]
  },
  {
   "cell_type": "code",
   "execution_count": 45,
   "metadata": {},
   "outputs": [],
   "source": [
    "from astropy.io import fits"
   ]
  },
  {
   "cell_type": "code",
   "execution_count": 16,
   "metadata": {},
   "outputs": [],
   "source": []
  },
  {
   "cell_type": "code",
   "execution_count": null,
   "metadata": {},
   "outputs": [],
   "source": []
  }
 ],
 "metadata": {
  "kernelspec": {
   "display_name": "NERSC Python",
   "language": "python",
   "name": "python3"
  },
  "language_info": {
   "codemirror_mode": {
    "name": "ipython",
    "version": 3
   },
   "file_extension": ".py",
   "mimetype": "text/x-python",
   "name": "python",
   "nbconvert_exporter": "python",
   "pygments_lexer": "ipython3",
   "version": "3.9.7"
  }
 },
 "nbformat": 4,
 "nbformat_minor": 4
}
